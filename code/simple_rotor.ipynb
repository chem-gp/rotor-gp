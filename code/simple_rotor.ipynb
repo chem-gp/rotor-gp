{
 "cells": [
  {
   "attachments": {},
   "cell_type": "markdown",
   "metadata": {},
   "source": [
    "## Prepare training data"
   ]
  },
  {
   "cell_type": "code",
   "execution_count": null,
   "metadata": {},
   "outputs": [],
   "source": [
    "# %%capture cap\n",
    "\n",
    "%load_ext autoreload\n",
    "%autoreload 2\n",
    "\n",
    "\n",
    "import os\n",
    "\n",
    "os.environ['OMP_NUM_THREADS'] = \"6,1\"\n",
    "os.environ[\"ASE_DFTB_COMMAND\"] = \"ulimit -s unlimited; /home/dlb/anaconda3/envs/dftb_plumed/bin/dftb+ > PREFIX.out\"\n",
    "os.environ[\"DFTB_PREFIX\"] = \"/home/dlb/Downloads/pbc-0-3\"\n",
    "\n",
    "# https://www.plumed.org/doc-v2.7/user-doc/html/_m_e_t_a_d.html\n",
    "# https://github.com/dftbplus/dftbplus/issues/1064\n",
    "# try with numpy 1.22　\n",
    "# https://gitlab.com/Sucerquia/ase-plumed_tutorial\n",
    "\n",
    "from ase.calculators.lj import LennardJones\n",
    "# from ase.calculators.plumed import Plumed\n",
    "from runner.plumed import Plumed\n",
    "# from plumed import Plumed\n",
    "from ase.constraints import FixedPlane\n",
    "from ase.io import read\n",
    "from ase import units\n",
    "\n",
    "from ase.geometry.analysis import Analysis\n",
    "from ase.constraints import FixAtoms, FixBondLengths\n",
    "\n",
    "# import plumed\n",
    "\n",
    "from ase.calculators.dftb import Dftb\n",
    "\n",
    "\n",
    "\n",
    "ps = 1000 * units.fs\n",
    "\n",
    "setup = [f\"UNITS LENGTH=A TIME={1/ps} ENERGY={units.mol/units.kJ}\",\n",
    "        #  \"d: DISTANCE ATOMS=1,2 \",\n",
    "        \"at8: FIXEDATOM AT=-0.3652684296711638,5.59639757164289,11.089411052917308\",\n",
    "        \"at6: FIXEDATOM AT=-0.5388786945959876,6.471914514609469,10.07028636148657\",\n",
    "        \"c1: CENTER ATOMS=at8,at6\",\n",
    "        \"c2: CENTER ATOMS=67,69,73,77,79,83\",\n",
    "        \"c3: CENTER ATOMS=7,9,11,13,15,17\",\n",
    "        \"c4: CENTER ATOMS=79,83\",\n",
    "         \"phi: TORSION ATOMS=c1,c2,c3,c4\",\n",
    "         \"metad: METAD ARG=phi SIGMA=1.10 HEIGHT=15.0 BIASFACTOR=5 TEMP=300.0 PACE=1\", #GRID_MIN=-pi GRID_MAX=pi GRID_BIN=1500\n",
    "         # \"ARG=d SIGMA=0.20,0.20 HEIGHT=1.20 BIASFACTOR=5 TEMP=300.0 PACE=500\",\n",
    "         # \"GRID_MIN=0,0 GRID_MAX=1.0,1.0 GRID_BIN=150,150\",\n",
    "         \"PRINT ARG=phi STRIDE=1 FILE=../results/test/plumed/COLVAR\",\n",
    "         # \"CALC_RCT \",\n",
    "         # \"RCT_USTRIDE=10\",\n",
    "         # \"...\",\n",
    "         \"FLUSH STRIDE=1000\"]\n",
    "\n",
    "\n",
    "atoms = read('../data/structures/new_systems/ktu_002.cif')\n",
    "\n",
    "\n",
    "# fix_atoms = FixAtoms(indices=[atom.index for atom in atoms if atom.symbol=='N' or atom.symbol=='Si' or atom.symbol=='O'])\n",
    "# # # ch_bonds = Analysis(atoms).get_bonds(\"C\", \"H\")[0]\n",
    "# # # fix_bond_lengths = FixBondLengths(ch_bonds)\n",
    "# # # atoms.set_constraint([fix_atoms, fix_bond_lengths])\n",
    "# atoms.set_constraint(fix_atoms)\n",
    "\n",
    "calc_base = Dftb(atoms=atoms,\n",
    "            label='crystal',\n",
    "            kpts=(1,1,1)\n",
    "            )\n",
    "\n",
    "# atoms.calc = Plumed(calc=calc_base,\n",
    "#                     input=setup,\n",
    "#                     timestep=timestep,\n",
    "#                     atoms=atoms,\n",
    "#                     kT=0.1,\n",
    "#                     log='../results/test/plumed/plumed_log.log')\n",
    "\n",
    "from ase.md.verlet import VelocityVerlet\n",
    "from ase.md.langevin import Langevin\n",
    "\n",
    "atoms.calc = calc_base\n",
    "\n",
    "# dyn = Langevin(atoms, 0.1, temperature_K=0.1/units.kB, friction=0.1,\n",
    "#                fixcm=True, trajectory='../results/test/machine_learning/dftb_500.xyz')\n",
    "# We want to run MD with constant energy using the VelocityVerlet algorithm.\n",
    "dyn = VelocityVerlet(atoms, dt=0.5*units.fs, trajectory='../results/test/machine_learning/dftb_500.traj')  \n",
    "# https://wiki.fysik.dtu.dk/ase/ase/md.html\n",
    "\n",
    "dyn.run(500)\n"
   ]
  },
  {
   "cell_type": "code",
   "execution_count": null,
   "metadata": {},
   "outputs": [],
   "source": [
    "from ase.io import read, write\n",
    "from ase.visualize import view\n",
    "\n",
    "traj = read('../results/test/machine_learning/dftb_500.traj', index=\":\")\n",
    "# traj = read('/home/dlb/Downloads/UnbiasMD.xyz', index=\":\")\n",
    "# write(\"test/plumed/biased_MTD.xyz\", traj, format=\"extxyz\")\n",
    "# traj_biased = read('test/plumed/biased_MTD.xyz', index=\":\")\n",
    "# traj_unbiased = read('test/plumed/.xyz', index=\":\")\n",
    "\n",
    "view(traj)\n",
    "# print(traj[200].get_potential_energy())\n",
    "# print(traj[200].get_forces()[33])"
   ]
  },
  {
   "cell_type": "code",
   "execution_count": null,
   "metadata": {},
   "outputs": [],
   "source": []
  },
  {
   "cell_type": "code",
   "execution_count": null,
   "metadata": {},
   "outputs": [],
   "source": [
    "# check if correct forces were written into traj file\n",
    "# https://github.com/qsnake/ase/blob/master/ase/calculators/singlepoint.py\n",
    "# atoms = read('../data/structures/new_systems/ktu_002.cif')\n",
    "\n",
    "from ase.calculators.singlepoint import SinglePointCalculator\n",
    "\n",
    "snap = traj[200].copy()\n",
    "\n",
    "calc_base = Dftb(atoms=atoms,\n",
    "            label='crystal',\n",
    "            kpts=(1,1,1)\n",
    "            )\n",
    "\n",
    "snap.calc = calc_base\n",
    "\n",
    "print(snap.get_potential_energy())\n",
    "print(snap.get_forces()[33])"
   ]
  },
  {
   "attachments": {},
   "cell_type": "markdown",
   "metadata": {},
   "source": [
    "## Train GP model"
   ]
  },
  {
   "cell_type": "code",
   "execution_count": null,
   "metadata": {},
   "outputs": [],
   "source": [
    "from ase.visualize import view\n",
    "from ase import io\n",
    "\n",
    "import numpy as np\n",
    "\n",
    "traj_md = io.read(\"../results/test/machine_learning/dftb_500.traj\", index=\":\")\n",
    "energies_md = np.zeros(len(traj_md) )\n",
    "forces_md = np.zeros( (len(traj_md), len(traj_md[0]), 3 ) )\n",
    "for i, snap in enumerate(traj_md):\n",
    "    energies_md[i] = snap.get_potential_energy()\n",
    "    forces_md[i] = snap.get_forces()\n",
    "# forces_md = np.load(\"../../data/xtb_md/forces_xtb_md.npy\")\n",
    "# energies_md = np.load(\"../../data/xtb_md/energies_xtb_md.npy\")\n",
    "\n",
    "# Training data:\n",
    "training_indices = np.sort(  np.random.choice(np.arange(0,100), 30, replace=False) )\n",
    "# training_indices = np.sort(  np.arange(0, 100, 3) )  \n",
    "traj_train = [traj_md[i] for i in training_indices]\n",
    "energies_train = energies_md[training_indices]\n",
    "forces_train = forces_md[training_indices]\n",
    "train_data = {'trajectory': traj_train, 'energies': energies_train, 'forces': forces_train}\n",
    "\n",
    "#Test data:\n",
    "# test_indices = np.sort(  np.random.choice(np.arange(0,92795), 200, replace=False) ) \n",
    "test_indices = np.sort(  np.arange(200,220,1) ) \n",
    "traj_test = [traj_md[i] for i in test_indices]\n",
    "energies_test = energies_md[test_indices]\n",
    "forces_test = forces_md[test_indices]\n",
    "test_data = {'trajectory': traj_test, 'energies': energies_test, 'forces': forces_test}\n",
    "\n",
    "data_units = \"ev_angstrom\" # standard ase units"
   ]
  },
  {
   "cell_type": "code",
   "execution_count": null,
   "metadata": {},
   "outputs": [],
   "source": [
    "# using with fande environment\n",
    "\n",
    "import sys\n",
    "sys.path.append(\"../../fande\") # Adds higher directory to python modules path.\n",
    "# sys.path.append(\"..\") # Adds higher directory to python modules path.\n",
    "\n",
    "%load_ext autoreload\n",
    "%autoreload 2\n",
    "\n",
    "hparams = {\n",
    "    'dtype' : 'float64',\n",
    "    'device' : 'gpu'\n",
    "}\n",
    "\n"
   ]
  },
  {
   "cell_type": "code",
   "execution_count": null,
   "metadata": {},
   "outputs": [],
   "source": [
    "\n",
    "# import matplotlib.pyplot as plt\n",
    "# print(fdm.forces_train_norm.shape)\n",
    "# plt.plot(fdm.forces_train[:,49,0])"
   ]
  },
  {
   "cell_type": "code",
   "execution_count": null,
   "metadata": {},
   "outputs": [],
   "source": []
  },
  {
   "cell_type": "code",
   "execution_count": null,
   "metadata": {},
   "outputs": [],
   "source": [
    "%%time\n",
    "\n",
    "\n",
    "from fande.data import FandeDataModuleASE\n",
    "\n",
    "train_centers_positions = [7, 11, 15]\n",
    "train_derivatives_positions = [29, 35, 43, 49, 73, 79]\n",
    "# train_centers_positions = [6, 10, 14,   7, 11, 15]\n",
    "# train_derivatives_positions = [28, 34, 72, 78, 42, 48,   29, 35, 43, 49, 73, 79]\n",
    "\n",
    "test_centers_positions = [6]\n",
    "test_derivatives_positions = [34]\n",
    "# centers_positions = None\n",
    "# derivatives_positions = None\n",
    "\n",
    "# Descriptors parameters:\n",
    "soap_params = {\n",
    "    'species': [\"H\", \"C\"],\n",
    "    'periodic': True,\n",
    "    'rcut': 5.0,\n",
    "    'sigma': 0.5,\n",
    "    'nmax': 5,\n",
    "    'lmax': 5,\n",
    "    'average': \"off\",\n",
    "    'crossover': True,\n",
    "    'dtype': \"float64\",\n",
    "    'n_jobs': 10,\n",
    "    'sparse': False,\n",
    "    'positions': [7, 11, 15] # ignored\n",
    "}\n",
    "\n",
    "fdm = FandeDataModuleASE(train_data, test_data, hparams, units=data_units)\n",
    "\n",
    "train_gi, test_gi = fdm.calculate_invariants_librascal(\n",
    "    soap_params, \n",
    "    train_centers_positions, \n",
    "    train_derivatives_positions,\n",
    "    test_centers_positions, \n",
    "    test_derivatives_positions)\n",
    "\n",
    "\n",
    "print(fdm.train_DX.shape)\n",
    "print(fdm.test_DX.shape)"
   ]
  },
  {
   "cell_type": "code",
   "execution_count": null,
   "metadata": {},
   "outputs": [],
   "source": []
  },
  {
   "cell_type": "code",
   "execution_count": null,
   "metadata": {},
   "outputs": [],
   "source": [
    "print( fdm.train_DX.shape, fdm.test_DX.shape)\n",
    "\n",
    "# train_gi[0:20]%264"
   ]
  },
  {
   "cell_type": "code",
   "execution_count": null,
   "metadata": {},
   "outputs": [],
   "source": [
    "fdm.view_traj()"
   ]
  },
  {
   "cell_type": "code",
   "execution_count": null,
   "metadata": {},
   "outputs": [],
   "source": [
    "import matplotlib.pyplot as plt\n",
    "\n",
    "plt.plot(fdm.train_F[1::1], linestyle = 'None', marker='o')\n",
    "plt.plot(fdm.test_F[1::1], linestyle = 'None', marker='o')\n",
    "\n",
    "print(fdm.train_DX.shape, fdm.train_F.shape )\n",
    "print(fdm.test_DX.shape, fdm.test_F.shape )"
   ]
  },
  {
   "attachments": {},
   "cell_type": "markdown",
   "metadata": {},
   "source": [
    "## Train Model"
   ]
  },
  {
   "cell_type": "code",
   "execution_count": null,
   "metadata": {},
   "outputs": [],
   "source": [
    "from fande.models import ModelForces, ModelEnergies, MyCallbacks\n",
    "from torch.utils.data import DataLoader, TensorDataset, random_split\n",
    "from pytorch_lightning import Trainer, seed_everything\n",
    "import numpy as np\n",
    "# seed_everything(42, workers=True)\n",
    "\n",
    "train_DX = fdm.train_DX\n",
    "train_F = fdm.train_F\n",
    "test_DX = fdm.test_DX\n",
    "test_F = fdm.test_F\n",
    "\n",
    "training_random_samples = train_F.shape[0]\n",
    "num_epochs = 2000\n",
    "learning_rate = 0.05\n",
    "\n",
    "# ind_slice = np.sort( np.concatenate( \n",
    "#     ( np.arange(0,4800), np.arange(11*4800,12*4800), np.random.choice(np.arange(4800,59200), 300, replace=False) ) \n",
    "#     ) )\n",
    "\n",
    "ind_slice = np.sort(  np.random.choice(np.arange(0,train_F.shape[0]), training_random_samples, replace=False) ) \n",
    "# ind_slice = np.sort(  np.arange(0,2550) ) \n",
    "# ind_slice = np.sort(  np.arange(0,train_F.shape[0]) ) \n",
    "\n",
    "\n",
    "train_dataset = TensorDataset(train_DX[ind_slice], train_F[ind_slice])\n",
    "train_loader = DataLoader(train_dataset, batch_size=100_000)\n",
    "\n",
    "model_f = ModelForces(train_DX[ind_slice], train_F[ind_slice], hparams, learning_rate)\n",
    "\n",
    "trainer_f = Trainer(\n",
    "    gpus=1, \n",
    "    max_epochs=num_epochs, \n",
    "    precision=64,\n",
    "    weights_summary='full', \n",
    "    callbacks=[MyCallbacks()])\n",
    "\n",
    "trainer_f.fit(model_f, train_loader)"
   ]
  },
  {
   "cell_type": "code",
   "execution_count": null,
   "metadata": {},
   "outputs": [],
   "source": [
    "fdm.train_DX.shape"
   ]
  },
  {
   "attachments": {},
   "cell_type": "markdown",
   "metadata": {},
   "source": [
    "## Predictions on test data"
   ]
  },
  {
   "cell_type": "code",
   "execution_count": null,
   "metadata": {},
   "outputs": [],
   "source": [
    "from fande.predict import PredictorASE\n",
    "\n",
    "test_X = fdm.test_X\n",
    "test_DX = fdm.test_DX\n",
    "test_E = fdm.test_E\n",
    "test_F = fdm.test_F\n",
    "\n",
    "model_e = None\n",
    "trainer_e = None\n",
    "\n",
    "# del predictor\n",
    "\n",
    "predictor = PredictorASE(\n",
    "            fdm,\n",
    "            model_e,\n",
    "            model_f,\n",
    "            trainer_e,\n",
    "            trainer_f,\n",
    "            hparams,\n",
    "            soap_params\n",
    ")\n",
    "\n",
    "\n",
    "predictor.predict_and_plot_forces_r()"
   ]
  },
  {
   "cell_type": "code",
   "execution_count": null,
   "metadata": {},
   "outputs": [],
   "source": []
  },
  {
   "cell_type": "code",
   "execution_count": null,
   "metadata": {},
   "outputs": [],
   "source": [
    "from torch.utils.data import DataLoader, TensorDataset\n",
    "\n",
    "test = TensorDataset(fdm.test_DX, fdm.test_F)\n",
    "test_dl = DataLoader(test, batch_size=fdm.batch_size)"
   ]
  },
  {
   "cell_type": "code",
   "execution_count": null,
   "metadata": {},
   "outputs": [],
   "source": [
    "fdm.train_DX.shape"
   ]
  },
  {
   "cell_type": "code",
   "execution_count": null,
   "metadata": {},
   "outputs": [],
   "source": [
    "print(fdm.test_DX.shape)\n",
    "print(fdm.test_F.shape)"
   ]
  },
  {
   "cell_type": "code",
   "execution_count": null,
   "metadata": {},
   "outputs": [],
   "source": []
  },
  {
   "attachments": {},
   "cell_type": "markdown",
   "metadata": {},
   "source": [
    "## Testing area"
   ]
  },
  {
   "cell_type": "code",
   "execution_count": null,
   "metadata": {},
   "outputs": [],
   "source": [
    "import os\n",
    "import ipyparallel as ipp\n",
    "\n",
    "cluster = ipp.Cluster(n=4)\n",
    "with cluster as rc:\n",
    "    ar = rc[:].apply_async(os.getpid)\n",
    "    pid_map = ar.get_dict()"
   ]
  },
  {
   "cell_type": "code",
   "execution_count": null,
   "metadata": {},
   "outputs": [],
   "source": [
    "import ipyparallel as ipp\n",
    "rc = ipp.Cluster(n=4).start_and_connect_sync()"
   ]
  },
  {
   "attachments": {},
   "cell_type": "markdown",
   "metadata": {},
   "source": []
  },
  {
   "attachments": {},
   "cell_type": "markdown",
   "metadata": {},
   "source": [
    "## Run simulations"
   ]
  }
 ],
 "metadata": {
  "kernelspec": {
   "display_name": "Python 3",
   "language": "python",
   "name": "python3"
  },
  "language_info": {
   "codemirror_mode": {
    "name": "ipython",
    "version": 3
   },
   "file_extension": ".py",
   "mimetype": "text/x-python",
   "name": "python",
   "nbconvert_exporter": "python",
   "pygments_lexer": "ipython3",
   "version": "3.9.12"
  }
 },
 "nbformat": 4,
 "nbformat_minor": 2
}
