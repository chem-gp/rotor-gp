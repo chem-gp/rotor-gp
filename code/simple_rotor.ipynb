{
 "cells": [
  {
   "attachments": {},
   "cell_type": "markdown",
   "metadata": {},
   "source": [
    "## Prepare training data"
   ]
  },
  {
   "cell_type": "code",
   "execution_count": null,
   "metadata": {},
   "outputs": [],
   "source": [
    "# %%capture cap\n",
    "# see MTD with QE: https://www.quantum-espresso.org/wp-content/uploads/2022/03/plumed_quick_ref.pdf\n",
    "# \n",
    "\n",
    "%load_ext autoreload\n",
    "%autoreload 2\n",
    "\n",
    "\n",
    "import os\n",
    "\n",
    "os.environ['OMP_NUM_THREADS'] = \"6,1\"\n",
    "os.environ[\"ASE_DFTB_COMMAND\"] = \"ulimit -s unlimited; /home/dlb/anaconda3/envs/dftb_plumed/bin/dftb+ > PREFIX.out\"\n",
    "os.environ[\"DFTB_PREFIX\"] = \"/home/dlb/Downloads/pbc-0-3\"\n",
    "\n",
    "# https://www.plumed.org/doc-v2.7/user-doc/html/_m_e_t_a_d.html\n",
    "# https://github.com/dftbplus/dftbplus/issues/1064\n",
    "# try with numpy 1.22　\n",
    "# https://gitlab.com/Sucerquia/ase-plumed_tutorial\n",
    "\n",
    "from ase.calculators.lj import LennardJones\n",
    "# from ase.calculators.plumed import Plumed\n",
    "from runner.plumed import Plumed\n",
    "# from plumed import Plumed\n",
    "from ase.constraints import FixedPlane\n",
    "from ase.io import read\n",
    "from ase import units\n",
    "\n",
    "from ase.geometry.analysis import Analysis\n",
    "from ase.constraints import FixAtoms, FixBondLengths\n",
    "\n",
    "from ase.md.velocitydistribution import MaxwellBoltzmannDistribution\n",
    "\n",
    "# import plumed\n",
    "\n",
    "from ase.calculators.dftb import Dftb\n",
    "\n",
    "\n",
    "\n",
    "ps = 1000 * units.fs\n",
    "\n",
    "setup = [f\"UNITS LENGTH=A TIME={1/ps} ENERGY={units.mol/units.kJ}\",\n",
    "        #  \"d: DISTANCE ATOMS=1,2 \",\n",
    "        \"at8: FIXEDATOM AT=-0.3652684296711638,5.59639757164289,11.089411052917308\",\n",
    "        \"at6: FIXEDATOM AT=-0.5388786945959876,6.471914514609469,10.07028636148657\",\n",
    "        \"c1: CENTER ATOMS=at8,at6\",\n",
    "        \"c2: CENTER ATOMS=67,69,73,77,79,83\",\n",
    "        \"c3: CENTER ATOMS=7,9,11,13,15,17\",\n",
    "        \"c4: CENTER ATOMS=79,83\",\n",
    "         \"phi: TORSION ATOMS=c1,c2,c3,c4\",\n",
    "         \"metad: METAD ARG=phi SIGMA=1.10 HEIGHT=15.0 BIASFACTOR=5 TEMP=300.0 PACE=1\", #GRID_MIN=-pi GRID_MAX=pi GRID_BIN=1500\n",
    "         # \"ARG=d SIGMA=0.20,0.20 HEIGHT=1.20 BIASFACTOR=5 TEMP=300.0 PACE=500\",\n",
    "         # \"GRID_MIN=0,0 GRID_MAX=1.0,1.0 GRID_BIN=150,150\",\n",
    "         \"PRINT ARG=phi STRIDE=1 FILE=../results/test/plumed/COLVAR\",\n",
    "         # \"CALC_RCT \",\n",
    "         # \"RCT_USTRIDE=10\",\n",
    "         # \"...\",\n",
    "         \"FLUSH STRIDE=1000\"]\n",
    "\n",
    "\n",
    "# atoms = read('../data/structures/new_systems/ktu_002.cif')\n",
    "atoms = read('../results/test/machine_learning/opt.traj', index='-1')\n",
    "\n",
    "\n",
    "# moving_atoms = [43,47,49,53,57,59,  45,51,55,61]\n",
    "\n",
    "moving_atoms = [\n",
    "    #   upper layer rings\n",
    "    43,47,49,53,57,59, 45,51,55,61, \n",
    "    77,73,69,67,83,79, 75,71,85,81,\n",
    "    33,29,25,23,39,35, 31,27,41,37,\n",
    "    #   lower layer rings\n",
    "    76,78,82,66,68,72, 80,84,70,74,\n",
    "    32,34,38,22,24,28, 36,40,26,30,\n",
    "    46,42,58,56,52,48, 44,60,54,50\n",
    "      ]\n",
    "fixed_atoms = list( set(range(264)) - set(moving_atoms) )\n",
    "fix_atoms = FixAtoms(indices=fixed_atoms)\n",
    "# fix_atoms = FixAtoms(indices=[atom.index for atom in atoms if atom.symbol=='N' or atom.symbol=='Si' or atom.symbol=='O'])\n",
    "# ch_bonds = Analysis(atoms).get_bonds(\"C\", \"H\")[0]\n",
    "# fix_bond_lengths = FixBondLengths(ch_bonds)\n",
    "# atoms.set_constraint([fix_atoms, fix_bond_lengths])\n",
    "atoms.set_constraint(fix_atoms)\n",
    "\n",
    "\n",
    "calc_base = Dftb(atoms=atoms,\n",
    "            label='crystal',\n",
    "            kpts=(1,1,1)\n",
    "            )\n",
    "\n",
    "# atoms.calc = Plumed(calc=calc_base,\n",
    "#                     input=setup,\n",
    "#                     timestep=timestep,\n",
    "#                     atoms=atoms,\n",
    "#                     kT=0.1,\n",
    "#                     log='../results/test/plumed/plumed_log.log')\n",
    "\n",
    "from ase.md.verlet import VelocityVerlet\n",
    "from ase.md.langevin import Langevin\n",
    "\n",
    "atoms.calc = calc_base\n",
    "\n",
    "MaxwellBoltzmannDistribution(atoms, temperature_K=2000)\n",
    "\n",
    "# dyn = Langevin(atoms, 0.1, temperature_K=0.1/units.kB, friction=0.1,\n",
    "#                fixcm=True, trajectory='../results/test/machine_learning/dftb_500.xyz')\n",
    "# We want to run MD with constant energy using the VelocityVerlet algorithm.\n",
    "dyn = VelocityVerlet(atoms, dt=0.5*units.fs, trajectory='../results/test/machine_learning/dftb_opt_1000_six_rings.traj')  \n",
    "# https://wiki.fysik.dtu.dk/ase/ase/md.html\n",
    "\n",
    "dyn.run(1000)\n"
   ]
  },
  {
   "cell_type": "code",
   "execution_count": null,
   "metadata": {},
   "outputs": [],
   "source": [
    "from ase.optimize import BFGS\n",
    "from ase.calculators.dftb import Dftb\n",
    "\n",
    "from ase.visualize import view\n",
    "\n",
    "# atoms = read('../data/structures/new_systems/ktu_002.cif')\n",
    "atoms = read('../results/test/machine_learning/opt.traj', index='-1')\n",
    "\n",
    "calc_base = Dftb(atoms=atoms,\n",
    "            label='crystal',\n",
    "            kpts=(1,1,1)\n",
    "            )\n",
    "\n",
    "atoms.calc = calc_base\n",
    "print(atoms.get_forces().max())\n",
    "\n",
    "# Structure optimization:\n",
    "# dyn = BFGS(\n",
    "#     atoms,\n",
    "#     trajectory=\"../results/test/machine_learning/opt.traj\",\n",
    "#     logfile=\"../results/test/machine_learning/opt_log.log\",)\n",
    "# dyn.run(fmax=0.01)\n",
    "traj_opt = read('../results/test/machine_learning/opt.traj', index=\":\")\n",
    "view(traj_opt)\n",
    "\n"
   ]
  },
  {
   "cell_type": "code",
   "execution_count": null,
   "metadata": {},
   "outputs": [],
   "source": [
    "from ase.io import read, write\n",
    "from ase.visualize import view\n",
    "\n",
    "traj = read('../results/test/machine_learning/dftb_opt_1000_six_rings.traj', index=\":\")\n",
    "# traj = read('/home/dlb/Downloads/UnbiasMD.xyz', index=\":\")\n",
    "# write(\"test/plumed/biased_MTD.xyz\", traj, format=\"extxyz\")\n",
    "# traj_biased = read('test/plumed/biased_MTD.xyz', index=\":\")\n",
    "# traj_unbiased = read('test/plumed/.xyz', index=\":\")\n",
    "\n",
    "view(traj)\n",
    "# print(traj[200].get_potential_energy())\n",
    "# print(traj[200].get_forces()[33])"
   ]
  },
  {
   "cell_type": "code",
   "execution_count": null,
   "metadata": {},
   "outputs": [],
   "source": []
  },
  {
   "cell_type": "code",
   "execution_count": null,
   "metadata": {},
   "outputs": [],
   "source": [
    "# check if correct forces were written into traj file\n",
    "# https://github.com/qsnake/ase/blob/master/ase/calculators/singlepoint.py\n",
    "# atoms = read('../data/structures/new_systems/ktu_002.cif')\n",
    "\n",
    "from ase.calculators.singlepoint import SinglePointCalculator\n",
    "\n",
    "snap = traj[200].copy()\n",
    "\n",
    "calc_base = Dftb(atoms=atoms,\n",
    "            label='crystal',\n",
    "            kpts=(1,1,1)\n",
    "            )\n",
    "\n",
    "snap.calc = calc_base\n",
    "\n",
    "print(snap.get_potential_energy())\n",
    "print(snap.get_forces()[33])"
   ]
  },
  {
   "attachments": {},
   "cell_type": "markdown",
   "metadata": {},
   "source": [
    "## Train GP model"
   ]
  },
  {
   "cell_type": "code",
   "execution_count": null,
   "metadata": {},
   "outputs": [],
   "source": [
    "from ase.visualize import view\n",
    "from ase import io\n",
    "\n",
    "import numpy as np\n",
    "\n",
    "traj_md = io.read(\"../results/test/machine_learning/dftb_opt_1000_six_rings.traj\", index=\":\")\n",
    "energies_md = np.zeros(len(traj_md) )\n",
    "forces_md = np.zeros( (len(traj_md), len(traj_md[0]), 3 ) )\n",
    "for i, snap in enumerate(traj_md):\n",
    "    energies_md[i] = snap.get_potential_energy()\n",
    "    forces_md[i] = snap.get_forces()\n",
    "# forces_md = np.load(\"../../data/xtb_md/forces_xtb_md.npy\")\n",
    "# energies_md = np.load(\"../../data/xtb_md/energies_xtb_md.npy\")\n",
    "\n",
    "# Training data:\n",
    "# training_indices = np.sort(  np.random.choice(np.arange(200,220), 3, replace=False) )\n",
    "training_indices = np.sort(  np.arange(200, 600, 10) )  \n",
    "traj_train = [traj_md[i] for i in training_indices]\n",
    "energies_train = energies_md[training_indices]\n",
    "forces_train = forces_md[training_indices]\n",
    "train_data = {'trajectory': traj_train, 'energies': energies_train, 'forces': forces_train}\n",
    "\n",
    "#Test data:\n",
    "# test_indices = np.sort(  np.random.choice(np.arange(0,92795), 200, replace=False) ) \n",
    "test_indices = np.sort(  np.arange(700,710,1) ) \n",
    "traj_test = [traj_md[i] for i in test_indices]\n",
    "energies_test = energies_md[test_indices]\n",
    "forces_test = forces_md[test_indices]\n",
    "test_data = {'trajectory': traj_test, 'energies': energies_test, 'forces': forces_test}\n",
    "\n",
    "data_units = \"ev_angstrom\" # standard ase units"
   ]
  },
  {
   "cell_type": "code",
   "execution_count": null,
   "metadata": {},
   "outputs": [],
   "source": [
    "# using with fande environment\n",
    "\n",
    "import sys\n",
    "sys.path.append(\"../../fande\") # Adds higher directory to python modules path.\n",
    "# sys.path.append(\"..\") # Adds higher directory to python modules path.\n",
    "\n",
    "%load_ext autoreload\n",
    "%autoreload 2\n",
    "\n",
    "hparams = {\n",
    "    'dtype' : 'float64',\n",
    "    'device' : 'gpu'\n",
    "}\n",
    "\n"
   ]
  },
  {
   "cell_type": "code",
   "execution_count": null,
   "metadata": {},
   "outputs": [],
   "source": [
    "%%time\n",
    "\n",
    "\n",
    "from fande.data import FandeDataModuleASE\n",
    "\n",
    "# train_centers_positions = [43,49,73,79,29,35,  53,59,69,83,25,39,  75,81,31,37,45,51]\n",
    "# train_derivatives_positions = [43,49,73,79,29,35,  53,59,69,83,25,39,  75,81,31,37,45,51]\n",
    "\n",
    "\n",
    "# moving_atoms = [\n",
    "#     #   upper layer rings\n",
    "#     43,47,49,53,57,59, 45,51,55,61, \n",
    "#     77,73,69,67,83,79, 75,71,85,81,\n",
    "#     33,29,25,23,39,35, 31,27,41,37,\n",
    "#     #   lower layer rings\n",
    "#     76,78,82,66,68,72, 80,84,70,74,\n",
    "#     32,34,38,22,24,28, 36,40,26,30,\n",
    "#     46,42,58,56,52,48, 44,60,54,50\n",
    "#       ]\n",
    "moving_atoms_h = [\n",
    "    #   upper layer rings\n",
    "    45,51,55,61, \n",
    "    75,71,85,81,\n",
    "    31,27,41,37,\n",
    "    #   lower layer rings\n",
    "    80,84,70,74,\n",
    "    36,40,26,30,\n",
    "    44,60,54,50\n",
    "      ]\n",
    "train_centers_positions = moving_atoms_h\n",
    "train_derivatives_positions = moving_atoms_h\n",
    "\n",
    "# train_centers_positions = list(range(264))\n",
    "# train_derivatives_positions = list(range(264))\n",
    "# train_derivatives_positions = [25,39,53,59,69,83]\n",
    "# train_centers_positions = [43\n",
    "# train_derivatives_positions = [\n",
    "\n",
    "# moving_atoms = [43,47,49,53,57,59,  45,51,55,61]\n",
    "# train_centers_positions = list(range(264))\n",
    "# train_derivatives_positions = list(range(264))\n",
    "\n",
    "# train_derivatives_positions = [29, 35, 43, 49, 73, 79]\n",
    "# train_centers_positions = [6, 10, 14,   7, 11, 15]\n",
    "# train_derivatives_positions = [28, 34, 72, 78, 42, 48,   29, 35, 43, 49, 73, 79]\n",
    "\n",
    "\n",
    "test_centers_positions = list(range(264))\n",
    "test_derivatives_positions = list(range(264))\n",
    "# test_centers_positions = [0]\n",
    "# test_derivatives_positions = [0]\n",
    "# centers_positions = None\n",
    "# derivatives_positions = None\n",
    "\n",
    "# Descriptors parameters:\n",
    "soap_params = {\n",
    "    'species': [\"H\", \"C\"],\n",
    "    'periodic': True,\n",
    "    'rcut': 5.0,\n",
    "    'sigma': 0.5,\n",
    "    'nmax': 5,\n",
    "    'lmax': 5,\n",
    "    'average': \"off\",\n",
    "    'crossover': True,\n",
    "    'dtype': \"float64\",\n",
    "    'n_jobs': 10,\n",
    "    'sparse': False,\n",
    "    'positions': [7, 11, 15] # ignored\n",
    "}\n",
    "\n",
    "fdm = FandeDataModuleASE(train_data, test_data, hparams, units=data_units)\n",
    "\n",
    "train_gi, test_gi = fdm.calculate_invariants_librascal(\n",
    "    soap_params, \n",
    "    train_centers_positions, \n",
    "    train_derivatives_positions,\n",
    "    test_centers_positions, \n",
    "    test_derivatives_positions,\n",
    "    same_centers_derivatives=True)\n",
    "\n",
    "\n",
    "print(fdm.train_DX.shape)\n",
    "print(fdm.test_DX.shape)"
   ]
  },
  {
   "cell_type": "code",
   "execution_count": null,
   "metadata": {},
   "outputs": [],
   "source": [
    "ff = traj_md[100].get_forces().flatten()\n",
    "# ff.flatten()"
   ]
  },
  {
   "cell_type": "code",
   "execution_count": null,
   "metadata": {},
   "outputs": [],
   "source": []
  },
  {
   "cell_type": "code",
   "execution_count": null,
   "metadata": {},
   "outputs": [],
   "source": []
  },
  {
   "cell_type": "code",
   "execution_count": null,
   "metadata": {},
   "outputs": [],
   "source": [
    "import torch\n",
    "torch.linalg.norm(fdm.train_DX[3])"
   ]
  },
  {
   "cell_type": "code",
   "execution_count": null,
   "metadata": {},
   "outputs": [],
   "source": [
    "import matplotlib.pyplot as plt\n",
    "\n",
    "plt.plot(fdm.train_F[1::1], linestyle = 'None', marker='o')\n",
    "plt.plot(fdm.test_F[1::1], linestyle = 'None', marker='x')\n",
    "\n",
    "print(fdm.train_DX.shape, fdm.train_F.shape )\n",
    "print(fdm.test_DX.shape, fdm.test_F.shape )"
   ]
  },
  {
   "cell_type": "code",
   "execution_count": null,
   "metadata": {},
   "outputs": [],
   "source": [
    "ind_slice = torch.nonzero(fdm.train_F).squeeze()\n",
    "ind_slice = torch.randperm(ind_slice.shape[0])[0:5000]\n",
    "\n",
    "print(ind_slice.shape)"
   ]
  },
  {
   "cell_type": "code",
   "execution_count": null,
   "metadata": {},
   "outputs": [],
   "source": [
    "ind_slice.unique().shape"
   ]
  },
  {
   "attachments": {},
   "cell_type": "markdown",
   "metadata": {},
   "source": [
    "## Train Model"
   ]
  },
  {
   "cell_type": "code",
   "execution_count": null,
   "metadata": {},
   "outputs": [],
   "source": [
    "model_f.device\n",
    "hypers = get_optimal_radial_basis_hypers(hypers, frames, expanded_max_radial=20)"
   ]
  },
  {
   "cell_type": "code",
   "execution_count": null,
   "metadata": {},
   "outputs": [],
   "source": [
    "%time\n",
    "\n",
    "from fande.models import ModelForces, ModelEnergies, MyCallbacks\n",
    "from torch.utils.data import DataLoader, TensorDataset, random_split\n",
    "from pytorch_lightning import Trainer, seed_everything\n",
    "import numpy as np\n",
    "# seed_everything(42, workers=True)\n",
    "import torch\n",
    "\n",
    "train_DX = fdm.train_DX\n",
    "train_F = fdm.train_F\n",
    "test_DX = fdm.test_DX\n",
    "test_F = fdm.test_F\n",
    "\n",
    "training_random_samples = 2000#train_F.shape[0]\n",
    "num_epochs = 500\n",
    "learning_rate = 0.01\n",
    "\n",
    "# ind_slice = np.sort( np.concatenate( \n",
    "#     ( np.arange(0,4800), np.arange(11*4800,12*4800), np.random.choice(np.arange(4800,59200), 300, replace=False) ) \n",
    "#     ) )\n",
    "\n",
    "# ind_slice = np.sort(  np.random.choice(np.arange(0,train_F.shape[0]), training_random_samples, replace=False) ) \n",
    "ind_slice = torch.nonzero(train_F).squeeze()\n",
    "ind_slice = torch.randperm(ind_slice.shape[0])[0:training_random_samples]\n",
    "# ind_slice = np.sort(  np.arange(0,2550) ) \n",
    "# ind_slice = np.sort(  np.arange(0,train_F.shape[0]) ) \n",
    "\n",
    "\n",
    "train_dataset = TensorDataset(train_DX[ind_slice], train_F[ind_slice])\n",
    "train_loader = DataLoader(train_dataset, batch_size=100_000)\n",
    "\n",
    "model_f = ModelForces(train_DX[ind_slice], train_F[ind_slice], hparams, learning_rate)\n",
    "\n",
    "trainer_f = Trainer(\n",
    "    gpus=1, \n",
    "    max_epochs=num_epochs, \n",
    "    precision=32,\n",
    "    weights_summary='full', \n",
    "    callbacks=[MyCallbacks()])\n",
    "\n",
    "trainer_f.fit(model_f, train_loader)"
   ]
  },
  {
   "cell_type": "code",
   "execution_count": null,
   "metadata": {},
   "outputs": [],
   "source": [
    "# # continuation of training:\n",
    "# trainer_f = Trainer(\n",
    "#     gpus=1, \n",
    "#     max_epochs=num_epochs, \n",
    "#     precision=32,\n",
    "#     weights_summary='full', \n",
    "#     callbacks=[MyCallbacks()])\n",
    "# trainer_f.fit(model_f, train_loader)"
   ]
  },
  {
   "cell_type": "code",
   "execution_count": null,
   "metadata": {},
   "outputs": [],
   "source": [
    "ind_slice.shape"
   ]
  },
  {
   "attachments": {},
   "cell_type": "markdown",
   "metadata": {},
   "source": [
    "## Predictions on test data"
   ]
  },
  {
   "cell_type": "code",
   "execution_count": null,
   "metadata": {},
   "outputs": [],
   "source": [
    "from fande.predict import PredictorASE\n",
    "\n",
    "model_e = None\n",
    "trainer_e = None\n",
    "\n",
    "predictor = PredictorASE(\n",
    "            fdm,\n",
    "            model_e,\n",
    "            model_f,\n",
    "            trainer_e,\n",
    "            trainer_f,\n",
    "            hparams,\n",
    "            soap_params\n",
    ")\n",
    "\n",
    "moving_atoms = [43,47,49,53,57,59,  45,51,55,61]\n",
    "# test_centers_positions = list(range(264))\n",
    "# test_derivatives_positions = list(range(264))\n",
    "# test_centers_positions = moving_atoms\n",
    "# test_derivatives_positions = moving_atoms\n",
    "# test_centers_positions = [43]\n",
    "# test_derivatives_positions = [43]\n",
    "\n",
    "recalculate_test = True\n",
    "\n",
    "\n",
    "if recalculate_test:\n",
    "    test_gi = fdm.calculate_test_invariants_librascal(\n",
    "        test_centers_positions, \n",
    "        test_derivatives_positions,\n",
    "        same_centers_derivatives=True)\n",
    "\n",
    "errors, worst_indices = predictor.test_errors(plot=True, view_worst_atoms=True)\n",
    "\n"
   ]
  },
  {
   "cell_type": "code",
   "execution_count": null,
   "metadata": {},
   "outputs": [],
   "source": []
  },
  {
   "cell_type": "code",
   "execution_count": null,
   "metadata": {},
   "outputs": [],
   "source": [
    "test_centers_positions = [60]\n",
    "test_derivatives_positions = [60]\n",
    "\n",
    "test_gi = fdm.calculate_test_invariants_librascal(\n",
    "    test_centers_positions, \n",
    "    test_derivatives_positions,\n",
    "    same_centers_derivatives=True)\n",
    "\n",
    "\n",
    "predictor.predict_and_plot_forces_r()"
   ]
  },
  {
   "cell_type": "code",
   "execution_count": null,
   "metadata": {},
   "outputs": [],
   "source": [
    "from ase.visualize import view\n",
    "\n",
    "view(traj_md)"
   ]
  },
  {
   "cell_type": "code",
   "execution_count": null,
   "metadata": {},
   "outputs": [],
   "source": [
    "\n",
    "%%time\n",
    "snapshot = traj_md[0]\n",
    "\n",
    "# for i in range(5):\n",
    "#     fdm.calculate_snapshot_invariants_librascal(snapshot)\n",
    "\n",
    "# fdm.snap_DX.shape\n",
    "s=0\n",
    "for i in range(4):\n",
    "    snapshot = traj_md[i]\n",
    "    try:\n",
    "        predictor.predict_forces_single_snapshot_r(snapshot)\n",
    "    except:\n",
    "        s = s+1\n",
    "        print(\"\\n You are a failure!!! Emotional daaaamage!!!\\n\")"
   ]
  },
  {
   "cell_type": "code",
   "execution_count": null,
   "metadata": {},
   "outputs": [],
   "source": [
    "snapshot.get_pbc()"
   ]
  },
  {
   "attachments": {},
   "cell_type": "markdown",
   "metadata": {},
   "source": []
  },
  {
   "attachments": {},
   "cell_type": "markdown",
   "metadata": {},
   "source": [
    "## Testing area"
   ]
  },
  {
   "attachments": {},
   "cell_type": "markdown",
   "metadata": {},
   "source": [
    "### MD with fande calc"
   ]
  },
  {
   "cell_type": "code",
   "execution_count": null,
   "metadata": {},
   "outputs": [],
   "source": []
  },
  {
   "cell_type": "code",
   "execution_count": null,
   "metadata": {},
   "outputs": [],
   "source": [
    "worst_atoms = list( set(worst_indices[:,1]) )\n",
    "print(worst_atoms)"
   ]
  },
  {
   "cell_type": "code",
   "execution_count": null,
   "metadata": {},
   "outputs": [],
   "source": []
  },
  {
   "cell_type": "code",
   "execution_count": null,
   "metadata": {},
   "outputs": [],
   "source": [
    "# %%capture c\n",
    "from fande.ase import FandeCalc\n",
    "\n",
    "# from ase.calculators.dftb import Dftb\n",
    "# from ase.calculators.lj import LennardJones\n",
    "\n",
    "\n",
    "from runner.dynamics import MDRunner\n",
    "\n",
    "from ase.geometry.analysis import Analysis\n",
    "from ase.constraints import FixAtoms, FixBondLengths\n",
    "\n",
    "from ase.optimize import BFGS\n",
    "\n",
    "from ase import units\n",
    "\n",
    "import logging\n",
    "\n",
    "from ase.md.velocitydistribution import MaxwellBoltzmannDistribution\n",
    "from ase.md.verlet import VelocityVerlet\n",
    "from ase.md.langevin import Langevin\n",
    "\n",
    "logging.getLogger(\"pytorch_lightning\").setLevel(logging.ERROR) # logging.ERROR to disable or INFO\n",
    "\n",
    "# traj_md = read('../results/test/machine_learning/dftb_opt_1000_six_rings.traj', index=\":\")\n",
    "traj_opt = read('../results/test/machine_learning/opt.traj', index=\":\")\n",
    "\n",
    "# atoms = fdm.mol_traj[10].copy()\n",
    "# atoms = traj_md[300].copy()\n",
    "atoms = traj_opt[-1].copy()\n",
    "atoms.set_pbc(True)\n",
    "\n",
    "atoms.calc = FandeCalc2(predictor)\n",
    "# atoms.calc = LennardJones()\n",
    "\n",
    "# # Supporting calc:\n",
    "# calc_dftb = Dftb(atoms=atoms,\n",
    "#             label='crystal',\n",
    "#             kpts=(1,1,1)\n",
    "#             )\n",
    "# atoms.calc_supporter = calc_dftb\n",
    "\n",
    "# print( atoms.get_forces() )\n",
    "# print( atoms.get_potential_energy())\n",
    "# \"../results/test/\"\n",
    "# mdr = MDRunner(atoms, \"../results/test/md_runs/md_test.traj\", \"../results/test/md_runs/md_log.log\")\n",
    "# mdr.run(dt=0.5*units.fs, num_steps=200)\n",
    "\n",
    "moving_atoms = [\n",
    "    #   upper layer rings\n",
    "    43,47,49,53,57,59, 45,51,55,61, \n",
    "    77,73,69,67,83,79, 75,71,85,81,\n",
    "    33,29,25,23,39,35, 31,27,41,37,\n",
    "    #   lower layer rings\n",
    "    76,78,82,66,68,72, 80,84,70,74,\n",
    "    32,34,38,22,24,28, 36,40,26,30,\n",
    "    46,42,58,56,52,48, 44,60,54,50\n",
    "      ]\n",
    "fixed_atoms = list( set(range(264)) - set(moving_atoms) )\n",
    "fix_atoms = FixAtoms(indices=fixed_atoms)\n",
    "# fix_atoms = FixAtoms(indices=[atom.index for atom in atoms if atom.symbol=='N' or atom.symbol=='Si' or atom.symbol=='O'])\n",
    "# fix_atoms = FixAtoms(indices=worst_atoms)\n",
    "# ch_bonds = Analysis(atoms).get_bonds(\"C\", \"H\")[0]\n",
    "# fix_bond_lengths = FixBondLengths(ch_bonds)\n",
    "# atoms.set_constraint([fix_atoms, fix_bond_lengths])\n",
    "atoms.set_constraint(fix_atoms)\n",
    "\n",
    "# Verlet dynamics:\n",
    "MaxwellBoltzmannDistribution(atoms, temperature_K=300)\n",
    "dyn = VelocityVerlet(\n",
    "    atoms,\n",
    "    dt = 0.1*units.fs,\n",
    "    trajectory=\"../results/test/md_runs/md_test.traj\",\n",
    "    logfile=\"../results/test/md_runs/md_log.log\",\n",
    ")\n",
    "dyn.run(40)\n",
    "\n",
    "# # Langevin dynamics:\n",
    "# https://databases.fysik.dtu.dk/ase/tutorials/md/md.html\n",
    "# MaxwellBoltzmannDistribution(atoms, temperature_K=300)\n",
    "# dyn = Langevin(atoms, 0.1, temperature_K=0.1/units.kB, friction=0.1,\n",
    "#                fixcm=True, trajectory='../results/test/md_runs/md_test.traj',\n",
    "#                logfile=\"../results/test/md_runs/md_log.log\")\n",
    "# dyn.run(1000)\n",
    "\n",
    "# # Structure optimization:\n",
    "# dyn = BFGS(\n",
    "#     atoms,\n",
    "#     trajectory=\"../results/test/md_runs/md_test.traj\",\n",
    "#     logfile=\"../results/test/md_runs/md_log.log\",)\n",
    "# dyn.run(fmax=0.1)"
   ]
  },
  {
   "cell_type": "code",
   "execution_count": null,
   "metadata": {},
   "outputs": [],
   "source": [
    "atoms.get_forces()"
   ]
  },
  {
   "cell_type": "code",
   "execution_count": null,
   "metadata": {},
   "outputs": [],
   "source": [
    "atoms.positions[0,2] = 0.5"
   ]
  },
  {
   "cell_type": "code",
   "execution_count": null,
   "metadata": {},
   "outputs": [],
   "source": [
    "len(atoms.calc.force_history)"
   ]
  },
  {
   "cell_type": "code",
   "execution_count": null,
   "metadata": {},
   "outputs": [],
   "source": [
    "file = open(\"../results/test/md_runs/captured_output.log\", \"w\")\n",
    "a = file.write(c.stdout)\n",
    "file.close()"
   ]
  },
  {
   "cell_type": "code",
   "execution_count": null,
   "metadata": {},
   "outputs": [],
   "source": [
    "from ase.visualize import view\n",
    "from ase.io import read\n",
    "\n",
    "traj = read(\"../results/test/md_runs/md_test.traj\", index=\":\")\n",
    "\n",
    "view(traj)"
   ]
  },
  {
   "cell_type": "code",
   "execution_count": null,
   "metadata": {},
   "outputs": [],
   "source": [
    "traj[3].get_forces()"
   ]
  },
  {
   "cell_type": "code",
   "execution_count": null,
   "metadata": {},
   "outputs": [],
   "source": [
    "traj[3].arrays.keys()"
   ]
  },
  {
   "cell_type": "code",
   "execution_count": null,
   "metadata": {},
   "outputs": [],
   "source": [
    "from ase.calculators.singlepoint import SinglePointCalculator\n",
    "\n"
   ]
  },
  {
   "cell_type": "code",
   "execution_count": null,
   "metadata": {},
   "outputs": [],
   "source": [
    "import os\n",
    "import ipyparallel as ipp\n",
    "\n",
    "cluster = ipp.Cluster(n=4)\n",
    "with cluster as rc:\n",
    "    ar = rc[:].apply_async(os.getpid)\n",
    "    pid_map = ar.get_dict()"
   ]
  },
  {
   "cell_type": "code",
   "execution_count": null,
   "metadata": {},
   "outputs": [],
   "source": [
    "import ipyparallel as ipp\n",
    "rc = ipp.Cluster(n=4).start_and_connect_sync()"
   ]
  },
  {
   "attachments": {},
   "cell_type": "markdown",
   "metadata": {},
   "source": [
    "### testing descriptors"
   ]
  },
  {
   "cell_type": "code",
   "execution_count": null,
   "metadata": {},
   "outputs": [],
   "source": [
    "del managers_test, soap_test"
   ]
  },
  {
   "cell_type": "code",
   "execution_count": null,
   "metadata": {},
   "outputs": [],
   "source": [
    "%%time\n",
    "\n",
    "# https://github.com/lab-cosmo/librascal/issues/324\n",
    "# https://lab-cosmo.github.io/librascal/reference/python.html#rascal.representations.SphericalInvariants.expansion_by_species_method\n",
    "\n",
    "\n",
    "from rascal.representations import SphericalInvariants\n",
    "\n",
    "traj = read('../results/test/machine_learning/dftb_500.traj', index=\":\")\n",
    "\n",
    "\n",
    "# traj = [traj[100]]\n",
    "\n",
    "traj_normal = traj[0:30].copy()\n",
    "traj_random = [traj[0].copy()]\n",
    "\n",
    "traj_random[0].positions = 200*np.random.random_sample((264,3))\n",
    "\n",
    "traj = traj_random + traj_normal\n",
    "\n",
    "\n",
    "\n",
    "\n",
    "\n",
    "for f in traj:\n",
    "    f.wrap(eps=1e-18)\n",
    "\n",
    "n_atoms = len(traj[0])\n",
    "\n",
    "\n",
    "\n",
    "hypers = dict(soap_type=\"PowerSpectrum\",\n",
    "            interaction_cutoff=2.0,\n",
    "            max_radial=4,\n",
    "            max_angular=4,\n",
    "            gaussian_sigma_constant=0.5,\n",
    "            gaussian_sigma_type=\"Constant\",\n",
    "            # cutoff_function_type=\"RadialScaling\",\n",
    "            cutoff_smooth_width=0.5,\n",
    "            # cutoff_function_parameters=\n",
    "            #         dict(\n",
    "            #                 rate=1,\n",
    "            #                 scale=3.5,\n",
    "            #                 exponent=4\n",
    "            #             ),\n",
    "            # optimization=\n",
    "            #     dict(\n",
    "            #             Spline=dict(\n",
    "            #                 accuracy=1.0e-05\n",
    "            #             )\n",
    "            #         ),\n",
    "            radial_basis=\"GTO\",\n",
    "            normalize=True,\n",
    "            compute_gradients=True,\n",
    "            expansion_by_species_method='structure wise'\n",
    "            )\n",
    "\n",
    "\n",
    "print(f\"Calculating full invariants for a single snapshot...\")      \n",
    "# hypers = soap_hypers \n",
    "soap_test = SphericalInvariants(**hypers)\n",
    "managers_test = soap_test.transform(traj)\n",
    "soap_array_test = managers_test.get_features(soap_test)   \n",
    "soap_grad_array_test = managers_test.get_features_gradient(soap_test)           \n",
    "test_grad_info = managers_test.get_gradients_info()\n",
    "\n",
    "print(soap_array_test.shape)\n",
    "print(soap_grad_array_test.shape)"
   ]
  },
  {
   "cell_type": "code",
   "execution_count": null,
   "metadata": {},
   "outputs": [],
   "source": []
  },
  {
   "cell_type": "code",
   "execution_count": null,
   "metadata": {},
   "outputs": [],
   "source": [
    "(soap_grad_array_test**2).sum(axis=-1)"
   ]
  },
  {
   "cell_type": "code",
   "execution_count": null,
   "metadata": {},
   "outputs": [],
   "source": [
    "test_grad_info[10000:10050]"
   ]
  },
  {
   "cell_type": "code",
   "execution_count": null,
   "metadata": {},
   "outputs": [],
   "source": [
    "soap_test.get_num_coefficients(5)"
   ]
  },
  {
   "cell_type": "code",
   "execution_count": null,
   "metadata": {},
   "outputs": [],
   "source": [
    "# traj = read('../results/test/machine_learning/dftb_500.traj', index=\":\")\n",
    "view(traj)"
   ]
  },
  {
   "attachments": {},
   "cell_type": "markdown",
   "metadata": {},
   "source": [
    "## Run simulations"
   ]
  }
 ],
 "metadata": {
  "kernelspec": {
   "display_name": "Python 3",
   "language": "python",
   "name": "python3"
  },
  "language_info": {
   "codemirror_mode": {
    "name": "ipython",
    "version": 3
   },
   "file_extension": ".py",
   "mimetype": "text/x-python",
   "name": "python",
   "nbconvert_exporter": "python",
   "pygments_lexer": "ipython3",
   "version": "3.9.12"
  }
 },
 "nbformat": 4,
 "nbformat_minor": 2
}
