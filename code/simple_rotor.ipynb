{
 "cells": [
  {
   "attachments": {},
   "cell_type": "markdown",
   "metadata": {},
   "source": [
    "## Prepare training data"
   ]
  },
  {
   "cell_type": "code",
   "execution_count": null,
   "metadata": {},
   "outputs": [],
   "source": [
    "# %%capture cap\n",
    "\n",
    "%load_ext autoreload\n",
    "%autoreload 2\n",
    "\n",
    "\n",
    "import os\n",
    "\n",
    "os.environ['OMP_NUM_THREADS'] = \"6,1\"\n",
    "os.environ[\"ASE_DFTB_COMMAND\"] = \"ulimit -s unlimited; /home/dlb/anaconda3/envs/dftb_plumed/bin/dftb+ > PREFIX.out\"\n",
    "os.environ[\"DFTB_PREFIX\"] = \"/home/dlb/Downloads/pbc-0-3\"\n",
    "\n",
    "# https://www.plumed.org/doc-v2.7/user-doc/html/_m_e_t_a_d.html\n",
    "# https://github.com/dftbplus/dftbplus/issues/1064\n",
    "# try with numpy 1.22　\n",
    "# https://gitlab.com/Sucerquia/ase-plumed_tutorial\n",
    "\n",
    "from ase.calculators.lj import LennardJones\n",
    "# from ase.calculators.plumed import Plumed\n",
    "from runner.plumed import Plumed\n",
    "# from plumed import Plumed\n",
    "from ase.constraints import FixedPlane\n",
    "from ase.io import read\n",
    "from ase import units\n",
    "\n",
    "from ase.geometry.analysis import Analysis\n",
    "from ase.constraints import FixAtoms, FixBondLengths\n",
    "\n",
    "# import plumed\n",
    "\n",
    "from ase.calculators.dftb import Dftb\n",
    "\n",
    "\n",
    "\n",
    "ps = 1000 * units.fs\n",
    "\n",
    "setup = [f\"UNITS LENGTH=A TIME={1/ps} ENERGY={units.mol/units.kJ}\",\n",
    "        #  \"d: DISTANCE ATOMS=1,2 \",\n",
    "        \"at8: FIXEDATOM AT=-0.3652684296711638,5.59639757164289,11.089411052917308\",\n",
    "        \"at6: FIXEDATOM AT=-0.5388786945959876,6.471914514609469,10.07028636148657\",\n",
    "        \"c1: CENTER ATOMS=at8,at6\",\n",
    "        \"c2: CENTER ATOMS=67,69,73,77,79,83\",\n",
    "        \"c3: CENTER ATOMS=7,9,11,13,15,17\",\n",
    "        \"c4: CENTER ATOMS=79,83\",\n",
    "         \"phi: TORSION ATOMS=c1,c2,c3,c4\",\n",
    "         \"metad: METAD ARG=phi SIGMA=1.10 HEIGHT=15.0 BIASFACTOR=5 TEMP=300.0 PACE=1\", #GRID_MIN=-pi GRID_MAX=pi GRID_BIN=1500\n",
    "         # \"ARG=d SIGMA=0.20,0.20 HEIGHT=1.20 BIASFACTOR=5 TEMP=300.0 PACE=500\",\n",
    "         # \"GRID_MIN=0,0 GRID_MAX=1.0,1.0 GRID_BIN=150,150\",\n",
    "         \"PRINT ARG=phi STRIDE=1 FILE=../results/test/plumed/COLVAR\",\n",
    "         # \"CALC_RCT \",\n",
    "         # \"RCT_USTRIDE=10\",\n",
    "         # \"...\",\n",
    "         \"FLUSH STRIDE=1000\"]\n",
    "\n",
    "\n",
    "atoms = read('../data/structures/new_systems/ktu_002.cif')\n",
    "\n",
    "\n",
    "# fix_atoms = FixAtoms(indices=[atom.index for atom in atoms if atom.symbol=='N' or atom.symbol=='Si' or atom.symbol=='O'])\n",
    "# # # ch_bonds = Analysis(atoms).get_bonds(\"C\", \"H\")[0]\n",
    "# # # fix_bond_lengths = FixBondLengths(ch_bonds)\n",
    "# # # atoms.set_constraint([fix_atoms, fix_bond_lengths])\n",
    "# atoms.set_constraint(fix_atoms)\n",
    "\n",
    "calc_base = Dftb(atoms=atoms,\n",
    "            label='crystal',\n",
    "            kpts=(1,1,1)\n",
    "            )\n",
    "\n",
    "# atoms.calc = Plumed(calc=calc_base,\n",
    "#                     input=setup,\n",
    "#                     timestep=timestep,\n",
    "#                     atoms=atoms,\n",
    "#                     kT=0.1,\n",
    "#                     log='../results/test/plumed/plumed_log.log')\n",
    "\n",
    "from ase.md.verlet import VelocityVerlet\n",
    "from ase.md.langevin import Langevin\n",
    "\n",
    "atoms.calc = calc_base\n",
    "\n",
    "# dyn = Langevin(atoms, 0.1, temperature_K=0.1/units.kB, friction=0.1,\n",
    "#                fixcm=True, trajectory='../results/test/machine_learning/dftb_500.xyz')\n",
    "# We want to run MD with constant energy using the VelocityVerlet algorithm.\n",
    "dyn = VelocityVerlet(atoms, dt=0.5*units.fs, trajectory='../results/test/machine_learning/dftb_500.traj')  \n",
    "# https://wiki.fysik.dtu.dk/ase/ase/md.html\n",
    "\n",
    "dyn.run(500)\n"
   ]
  },
  {
   "cell_type": "code",
   "execution_count": null,
   "metadata": {},
   "outputs": [],
   "source": [
    "from ase.io import read, write\n",
    "from ase.visualize import view\n",
    "\n",
    "traj = read('../results/test/machine_learning/dftb_500.traj', index=\":\")\n",
    "# traj = read('/home/dlb/Downloads/UnbiasMD.xyz', index=\":\")\n",
    "# write(\"test/plumed/biased_MTD.xyz\", traj, format=\"extxyz\")\n",
    "# traj_biased = read('test/plumed/biased_MTD.xyz', index=\":\")\n",
    "# traj_unbiased = read('test/plumed/.xyz', index=\":\")\n",
    "\n",
    "view(traj)\n",
    "# print(traj[200].get_potential_energy())\n",
    "# print(traj[200].get_forces()[33])"
   ]
  },
  {
   "cell_type": "code",
   "execution_count": null,
   "metadata": {},
   "outputs": [],
   "source": []
  },
  {
   "cell_type": "code",
   "execution_count": null,
   "metadata": {},
   "outputs": [],
   "source": [
    "# check if correct forces were written into traj file\n",
    "# https://github.com/qsnake/ase/blob/master/ase/calculators/singlepoint.py\n",
    "# atoms = read('../data/structures/new_systems/ktu_002.cif')\n",
    "\n",
    "from ase.calculators.singlepoint import SinglePointCalculator\n",
    "\n",
    "snap = traj[200].copy()\n",
    "\n",
    "calc_base = Dftb(atoms=atoms,\n",
    "            label='crystal',\n",
    "            kpts=(1,1,1)\n",
    "            )\n",
    "\n",
    "snap.calc = calc_base\n",
    "\n",
    "print(snap.get_potential_energy())\n",
    "print(snap.get_forces()[33])"
   ]
  },
  {
   "attachments": {},
   "cell_type": "markdown",
   "metadata": {},
   "source": [
    "## Train GP model"
   ]
  },
  {
   "cell_type": "code",
   "execution_count": null,
   "metadata": {},
   "outputs": [],
   "source": [
    "from ase.visualize import view\n",
    "from ase import io\n",
    "\n",
    "import numpy as np\n",
    "\n",
    "traj_md = io.read(\"../results/test/machine_learning/dftb_500.traj\", index=\":\")\n",
    "energies_md = np.zeros(len(traj_md) )\n",
    "forces_md = np.zeros( (len(traj_md), len(traj_md[0]), 3 ) )\n",
    "for i, snap in enumerate(traj_md):\n",
    "    energies_md[i] = snap.get_potential_energy()\n",
    "    forces_md[i] = snap.get_forces()\n",
    "# forces_md = np.load(\"../../data/xtb_md/forces_xtb_md.npy\")\n",
    "# energies_md = np.load(\"../../data/xtb_md/energies_xtb_md.npy\")\n",
    "\n",
    "# Training data:\n",
    "# training_indices = np.sort(  np.random.choice(np.arange(0,10_000), 1000, replace=False) )\n",
    "training_indices = np.sort(  np.arange(0, 500, 10) )  \n",
    "traj_train = [traj_md[i] for i in training_indices]\n",
    "energies_train = energies_md[training_indices]\n",
    "forces_train = forces_md[training_indices]\n",
    "train_data = {'trajectory': traj_train, 'energies': energies_train, 'forces': forces_train}\n",
    "\n",
    "#Test data:\n",
    "# test_indices = np.sort(  np.random.choice(np.arange(0,92795), 200, replace=False) ) \n",
    "test_indices = np.sort(  np.arange(100,200,2) ) \n",
    "traj_test = [traj_md[i] for i in test_indices]\n",
    "energies_test = energies_md[test_indices]\n",
    "forces_test = forces_md[test_indices]\n",
    "test_data = {'trajectory': traj_test, 'energies': energies_test, 'forces': forces_test}\n",
    "\n",
    "data_units = \"ev_angstrom\" # standard ase units"
   ]
  },
  {
   "cell_type": "code",
   "execution_count": null,
   "metadata": {},
   "outputs": [],
   "source": [
    "# using with fande environment\n",
    "\n",
    "import sys\n",
    "sys.path.append(\"../../fande\") # Adds higher directory to python modules path.\n",
    "# sys.path.append(\"..\") # Adds higher directory to python modules path.\n",
    "\n",
    "\n",
    "hparams = {\n",
    "    'dtype' : 'float64',\n",
    "    'device' : 'gpu'\n",
    "}\n",
    "\n",
    "# Descriptors parameters:\n",
    "soap_params = {\n",
    "    'species': [\"H\", \"C\"],\n",
    "    'periodic': True,\n",
    "    'rcut': 6.0,\n",
    "    'sigma': 0.5,\n",
    "    'nmax': 5,\n",
    "    'lmax': 5,\n",
    "    'average': \"off\",\n",
    "    'crossover': True,\n",
    "    'dtype': \"float64\",\n",
    "    'n_jobs': 10,\n",
    "    'sparse': False,\n",
    "    'positions': [7, 11, 15]\n",
    "}\n",
    "\n"
   ]
  },
  {
   "cell_type": "code",
   "execution_count": null,
   "metadata": {},
   "outputs": [],
   "source": [
    "%load_ext autoreload\n",
    "%autoreload 2\n",
    "\n",
    "from fande.data import FandeDataModuleASE\n",
    "import matplotlib.pyplot as plt\n",
    "\n",
    "fdm = FandeDataModuleASE(train_data, test_data, hparams, units=data_units)\n",
    "\n",
    "print(fdm.forces_train_norm.shape)\n",
    "plt.plot(fdm.forces_train[:,16,0])"
   ]
  },
  {
   "cell_type": "code",
   "execution_count": null,
   "metadata": {},
   "outputs": [],
   "source": [
    "\n",
    "fdm.calculate_invariants(soap_params)\n",
    "print(fdm.train_DX.shape)"
   ]
  },
  {
   "cell_type": "code",
   "execution_count": null,
   "metadata": {},
   "outputs": [],
   "source": [
    "# https://gitlab.com/tsitsvero/nmr-knot-continue/-/blob/master/experimental.ipynb\n",
    "import rascal.representations\n",
    "from rascal.representations import SphericalInvariants"
   ]
  },
  {
   "cell_type": "code",
   "execution_count": null,
   "metadata": {},
   "outputs": [],
   "source": [
    "%%time\n",
    "\n",
    "import ase\n",
    "from ase.io import read, write\n",
    "from rascal.representations import SphericalInvariants\n",
    "\n",
    "import rascal\n",
    "\n",
    "N_dataset = 1000\n",
    "# frames = read('/media/dlb/la_cie1/repos/librascal/examples/i-PI/zundel/zundel_dataset.xyz', index=':{}'.format(N_dataset))\n",
    "\n",
    "# from ase.io import read, write\n",
    "# from ase.visualize import view\n",
    "\n",
    "traj = read('../results/test/machine_learning/dftb_500.traj', index=\":\")\n",
    "\n",
    "\n",
    "frames = traj\n",
    "\n",
    "for f in frames:\n",
    "    f.wrap(eps=1e-18)\n",
    "\n",
    "frame_test = frames[10]\n",
    "# frame_test.cell = ase.cell.Cell([(10,0,0),(0,10,0),(0,0,10)])\n",
    "# frame_test.cell = ase.cell.Cell([[100.,0.01,0.],[0.,100.,0.0001],[0.001,0.,100.]])\n",
    "frame_test.pbc = True\n",
    "frame_test.wrap(eps=1e-10)\n",
    "# https://cosmo-epfl.github.io/librascal/_modules/rascal/neighbourlist/structure_manager.html#mask_center_atoms_by_id\n",
    "# frame_test.arrays[\"center_atoms_mask\"] = [False, False, True, False, False, False, False]\n",
    "\n",
    "# rascal.neighbourlist.structure_manager.mask_center_atoms_by_id(frame_test, id_select=[0,3])\n",
    "# rascal.neighbourlist.structure_manager.mask_center_atoms_by_species(frame_test, species_select=['C'])\n",
    "\n",
    "# define the parameters of the spherical expansion\n",
    "hypers = dict(soap_type=\"PowerSpectrum\",\n",
    "              interaction_cutoff=4.0,\n",
    "              max_radial=5,\n",
    "              max_angular=5,\n",
    "              gaussian_sigma_constant=0.5,\n",
    "              gaussian_sigma_type=\"Constant\",\n",
    "              cutoff_function_type=\"RadialScaling\",\n",
    "              cutoff_smooth_width=0.5,\n",
    "              cutoff_function_parameters=\n",
    "                    dict(\n",
    "                            rate=1,\n",
    "                            scale=3.5,\n",
    "                            exponent=4\n",
    "                        ),\n",
    "              radial_basis=\"GTO\",\n",
    "              normalize=True,\n",
    "            #   optimization=\n",
    "            #         dict(\n",
    "            #                 Spline=dict(\n",
    "            #                    accuracy=1.0e-05\n",
    "            #                 )\n",
    "            #             ),\n",
    "              compute_gradients=True\n",
    "              )\n",
    "\n",
    "\n",
    "soap = SphericalInvariants(**hypers)\n",
    "\n",
    "managers = soap.transform(frame_test)\n",
    "\n",
    "soap_array = managers.get_features(soap)\n",
    "soap_grad_array = managers.get_features_gradient(soap)\n",
    "print(soap_array.shape)\n",
    "print(soap_grad_array.shape)"
   ]
  },
  {
   "cell_type": "code",
   "execution_count": null,
   "metadata": {},
   "outputs": [],
   "source": [
    "from ase.visualize import view\n",
    "view(frame_test)"
   ]
  },
  {
   "cell_type": "code",
   "execution_count": null,
   "metadata": {},
   "outputs": [],
   "source": [
    "managers.get_representation_info()[1]"
   ]
  },
  {
   "cell_type": "code",
   "execution_count": null,
   "metadata": {},
   "outputs": [],
   "source": [
    "managers.get_gradients_info()[0:10]"
   ]
  },
  {
   "cell_type": "code",
   "execution_count": null,
   "metadata": {},
   "outputs": [],
   "source": [
    "# import numpy as np\n",
    "soap_grad_array[20_000,853]"
   ]
  },
  {
   "cell_type": "code",
   "execution_count": null,
   "metadata": {},
   "outputs": [],
   "source": [
    "soap.get_num_coefficients(5)\n",
    "# soap.get_keys('C')"
   ]
  },
  {
   "cell_type": "code",
   "execution_count": null,
   "metadata": {},
   "outputs": [],
   "source": [
    "rascal.neighbourlist.structure_manager.AtomsList(frame_test)"
   ]
  },
  {
   "cell_type": "code",
   "execution_count": null,
   "metadata": {},
   "outputs": [],
   "source": [
    "managers.get_gradients_info().shape\n",
    "# managers.get_representation_info()\n"
   ]
  },
  {
   "cell_type": "code",
   "execution_count": null,
   "metadata": {},
   "outputs": [],
   "source": [
    "# https://github.com/lab-cosmo/librascal/blob/4e576ae7b9d3740715ab1910def5e1a15ffd1268/tests/python/python_representation_calculator_test.py\n",
    "# n_neigh=2\n",
    "# https://github.com/lab-cosmo/librascal/pull/317\n",
    "n_feat=2250\n",
    "ij = managers.get_gradients_info()\n",
    "n_atoms = len(np.unique(ij[:, 1]))\n",
    "n_neigh = ij.shape[0]\n",
    "\n",
    "X_der = managers.get_features_gradient(soap).reshape((n_neigh, 3, n_feat))"
   ]
  },
  {
   "cell_type": "code",
   "execution_count": null,
   "metadata": {},
   "outputs": [],
   "source": [
    "ij.shape"
   ]
  },
  {
   "cell_type": "code",
   "execution_count": null,
   "metadata": {},
   "outputs": [],
   "source": [
    "X_der.shape"
   ]
  },
  {
   "cell_type": "code",
   "execution_count": null,
   "metadata": {},
   "outputs": [],
   "source": [
    "ij.shape"
   ]
  },
  {
   "cell_type": "code",
   "execution_count": null,
   "metadata": {},
   "outputs": [],
   "source": [
    "print(ij[:,1])"
   ]
  },
  {
   "cell_type": "code",
   "execution_count": null,
   "metadata": {},
   "outputs": [],
   "source": [
    "X_der.shape"
   ]
  },
  {
   "cell_type": "code",
   "execution_count": null,
   "metadata": {},
   "outputs": [],
   "source": [
    "import rascal as ras\n",
    "\n",
    "sm = ras.load_structure(\"/media/dlb/la_cie1/repos/librascal/examples/i-PI/zundel/zundel_dataset.xyz\")\n",
    "sm = ras.compute_pairs(sm)\n",
    "sm = ras.adaptor_strict(sm, 3.0)\n",
    "\n",
    "rep = ras.SphericalInvariants(sm, hypers)\n",
    "sm = rep.compute()"
   ]
  },
  {
   "cell_type": "code",
   "execution_count": null,
   "metadata": {},
   "outputs": [],
   "source": []
  },
  {
   "cell_type": "code",
   "execution_count": null,
   "metadata": {},
   "outputs": [],
   "source": [
    "import os\n",
    "import ipyparallel as ipp\n",
    "\n",
    "cluster = ipp.Cluster(n=4)\n",
    "with cluster as rc:\n",
    "    ar = rc[:].apply_async(os.getpid)\n",
    "    pid_map = ar.get_dict()"
   ]
  },
  {
   "cell_type": "code",
   "execution_count": null,
   "metadata": {},
   "outputs": [],
   "source": [
    "import ipyparallel as ipp\n",
    "rc = ipp.Cluster(n=4).start_and_connect_sync()"
   ]
  },
  {
   "cell_type": "code",
   "execution_count": null,
   "metadata": {},
   "outputs": [],
   "source": [
    "cluster = ipp.Cluster.from_file()"
   ]
  },
  {
   "cell_type": "code",
   "execution_count": null,
   "metadata": {},
   "outputs": [],
   "source": [
    "ipp.__version__"
   ]
  },
  {
   "cell_type": "code",
   "execution_count": null,
   "metadata": {},
   "outputs": [],
   "source": [
    "from ase.visualize import view\n",
    "\n",
    "# view(frames)\n",
    "print(frames[0].get_cell())"
   ]
  },
  {
   "cell_type": "code",
   "execution_count": null,
   "metadata": {},
   "outputs": [],
   "source": [
    " %matplotlib inline\n",
    "from matplotlib import pylab as plt\n",
    "\n",
    "import ase\n",
    "from ase.io import read, write\n",
    "from ase.build import make_supercell\n",
    "from ase.visualize import view\n",
    "import numpy as np\n",
    "# If installed -- not essential, though\n",
    "try:\n",
    "    from tqdm.notebook import tqdm\n",
    "except ImportError:\n",
    "    tqdm = (lambda i, **kwargs: i)\n",
    "\n",
    "from time import time\n",
    "\n",
    "import rascal\n",
    "from rascal.models import Kernel, train_gap_model, compute_KNM\n",
    "from rascal.representations import SphericalInvariants\n",
    "from rascal.utils import from_dict, to_dict, CURFilter, dump_obj, load_obj\n"
   ]
  },
  {
   "attachments": {},
   "cell_type": "markdown",
   "metadata": {},
   "source": []
  },
  {
   "attachments": {},
   "cell_type": "markdown",
   "metadata": {},
   "source": [
    "## Run simulations"
   ]
  }
 ],
 "metadata": {
  "kernelspec": {
   "display_name": "Python 3",
   "language": "python",
   "name": "python3"
  },
  "language_info": {
   "codemirror_mode": {
    "name": "ipython",
    "version": 3
   },
   "file_extension": ".py",
   "mimetype": "text/x-python",
   "name": "python",
   "nbconvert_exporter": "python",
   "pygments_lexer": "ipython3",
   "version": "3.10.8"
  }
 },
 "nbformat": 4,
 "nbformat_minor": 2
}
