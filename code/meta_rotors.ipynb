{
 "cells": [
  {
   "cell_type": "markdown",
   "metadata": {},
   "source": [
    "# (Meta-)Dynamics of rotor systems"
   ]
  },
  {
   "cell_type": "markdown",
   "metadata": {},
   "source": [
    "run with dftb_plumed conda environment"
   ]
  },
  {
   "cell_type": "code",
   "execution_count": 3,
   "metadata": {},
   "outputs": [
    {
     "name": "stderr",
     "output_type": "stream",
     "text": [
      "/home/dlb/anaconda3/envs/dftb_plumed/lib/python3.10/site-packages/ase/io/cif.py:401: UserWarning: crystal system 'triclinic' is not interpreted for space group Spacegroup(2, setting=1). This may result in wrong setting!\n",
      "  warnings.warn(\n"
     ]
    },
    {
     "data": {
      "text/plain": [
       "264"
      ]
     },
     "execution_count": 3,
     "metadata": {},
     "output_type": "execute_result"
    }
   ],
   "source": [
    "from ase.visualize import view\n",
    "from ase.io import read\n",
    "\n",
    "atoms = read('../data/structures/new_systems/ktu_002.cif')\n",
    "\n",
    "# view(atoms)\n",
    "# len(atoms)"
   ]
  },
  {
   "cell_type": "code",
   "execution_count": 6,
   "metadata": {},
   "outputs": [],
   "source": [
    "# !ulimit -s unlimited\n",
    "# conda env export > dftb_plumed.yml\n",
    "# https://wiki.fysik.dtu.dk/ase/ase/calculators/dftb.html\n",
    "# https://dftb.org/parameters/download\n",
    "\n",
    "# export ASE_DFTB_COMMAND=\"/path/to/dftb+ > PREFIX.out\"\n",
    "# export DFTB_PREFIX=/path/to/mio-0-1/\n",
    "import os\n",
    "\n",
    "os.environ['OMP_NUM_THREADS'] = \"6,1\"\n",
    "os.environ[\"ASE_DFTB_COMMAND\"] = \"ulimit -s unlimited; /home/dlb/anaconda3/envs/dftb_plumed/bin/dftb+ > PREFIX.out\"\n",
    "os.environ[\"DFTB_PREFIX\"] = \"/home/dlb/Downloads/pbc-0-3\"\n",
    "# os.environ[\"DFTB_PREFIX\"] = \"/home/dlb/Downloads/auorgap-1-1\" # doesn't work for now with crystal...\n",
    "\n",
    "# import os\n",
    "\n",
    "# os.environ[\"ASE_DFTB_COMMAND\"] = \"/home/dlb/anaconda3/envs/qe/bin/dftb+\"\n",
    "# os.environ[\"DFTB_PREFIX\"] = \"/home/dlb/Downloads/pbc-0-3\""
   ]
  },
  {
   "cell_type": "code",
   "execution_count": 59,
   "metadata": {},
   "outputs": [
    {
     "name": "stdout",
     "output_type": "stream",
     "text": [
      "The autoreload extension is already loaded. To reload it, use:\n",
      "  %reload_ext autoreload\n"
     ]
    },
    {
     "name": "stderr",
     "output_type": "stream",
     "text": [
      "+++ Loading the PLUMED kernel runtime +++\n",
      "+++ PLUMED_KERNEL=\"/home/dlb/anaconda3/envs/dftb_plumed/lib/libplumedKernel.so\" +++\n"
     ]
    },
    {
     "data": {
      "text/plain": [
       "True"
      ]
     },
     "execution_count": 59,
     "metadata": {},
     "output_type": "execute_result"
    }
   ],
   "source": [
    "# %%capture cap\n",
    "\n",
    "%load_ext autoreload\n",
    "%autoreload 2\n",
    "\n",
    "\n",
    "# https://www.plumed.org/doc-v2.7/user-doc/html/_m_e_t_a_d.html\n",
    "# https://github.com/dftbplus/dftbplus/issues/1064\n",
    "# try with numpy 1.22　\n",
    "# https://gitlab.com/Sucerquia/ase-plumed_tutorial\n",
    "\n",
    "from ase.calculators.lj import LennardJones\n",
    "# from ase.calculators.plumed import Plumed\n",
    "from runner.plumed import Plumed\n",
    "# from plumed import Plumed\n",
    "from ase.constraints import FixedPlane\n",
    "from ase.io import read\n",
    "from ase import units\n",
    "\n",
    "from ase.geometry.analysis import Analysis\n",
    "from ase.constraints import FixAtoms, FixBondLengths\n",
    "\n",
    "# import plumed\n",
    "\n",
    "from ase.calculators.dftb import Dftb\n",
    "\n",
    "\n",
    "\n",
    "ps = 1000 * units.fs\n",
    "timestep = 0.1 # in what units? \n",
    "\n",
    "# height 30.50 is fast\n",
    "\n",
    "setup = [f\"UNITS LENGTH=A TIME={1/ps} ENERGY={units.mol/units.kJ}\",\n",
    "        #  \"d: DISTANCE ATOMS=1,2 \",\n",
    "        \"at8: FIXEDATOM AT=-0.3652684296711638,5.59639757164289,11.089411052917308\",\n",
    "        \"at6: FIXEDATOM AT=-0.5388786945959876,6.471914514609469,10.07028636148657\",\n",
    "        \"c1: CENTER ATOMS=at8,at6\",\n",
    "        \"c2: CENTER ATOMS=67,69,73,77,79,83\",\n",
    "        \"c3: CENTER ATOMS=7,9,11,13,15,17\",\n",
    "        \"c4: CENTER ATOMS=79,83\",\n",
    "         \"phi: TORSION ATOMS=c1,c2,c3,c4\",\n",
    "         \"metad: METAD ARG=phi SIGMA=1.10 HEIGHT=15.0 BIASFACTOR=5 TEMP=300.0 PACE=1\", #GRID_MIN=-pi GRID_MAX=pi GRID_BIN=1500\n",
    "         # \"ARG=d SIGMA=0.20,0.20 HEIGHT=1.20 BIASFACTOR=5 TEMP=300.0 PACE=500\",\n",
    "         # \"GRID_MIN=0,0 GRID_MAX=1.0,1.0 GRID_BIN=150,150\",\n",
    "         \"PRINT ARG=phi STRIDE=1 FILE=../results/test/plumed/COLVAR\",\n",
    "         # \"CALC_RCT \",\n",
    "         # \"RCT_USTRIDE=10\",\n",
    "         # \"...\",\n",
    "         \"FLUSH STRIDE=1000\"]\n",
    "\n",
    "# setup = f\"\"\"\n",
    "# d: DISTANCE ATOMS=1,2 \n",
    "# metad: METAD ...\n",
    "#    ARG=d SIGMA=0.20,0.20 HEIGHT=1.20 BIASFACTOR=5 TEMP=300.0 PACE=500 \n",
    "#    GRID_MIN=0,0 GRID_MAX=1.0,1.0 GRID_BIN=150,150 \n",
    "#    CALC_RCT \n",
    "#    RCT_USTRIDE=10 \n",
    "# ...\n",
    "# PRINT ARG=d STRIDE=100 FILE=COLVAR\n",
    "# \"\"\"\n",
    "# print(setup)\n",
    "\n",
    "from ase.build import molecule\n",
    "\n",
    "atoms = read('../data/structures/new_systems/ktu_002.cif')\n",
    "# atoms = molecule('CH3CH2NH2')\n",
    "# atoms = read('../structures/Ar_isomer.xyz')\n",
    "# atoms = read('../structures/KTU-183_2_auto.cif')\n",
    "# atoms=read(\"../structures/HIK-143 293K-activated.cif\")\n",
    "# atoms=read(\"../structures/KTU-183_2_auto_dimer.xyz\")\n",
    "# cons = [FixedPlane(i, [0, 0, 1]) for i in range(7)]\n",
    "# atoms.set_constraint(cons)\n",
    "# atoms.set_masses([1, 1, 1, 1, 1, 1, 1])\n",
    "\n",
    "# calc_base = LennardJones(rc=2.5, r0=3.)\n",
    "\n",
    "\n",
    "fix_atoms = FixAtoms(indices=[atom.index for atom in atoms if atom.symbol=='N' or atom.symbol=='Si'])\n",
    "# # ch_bonds = Analysis(atoms).get_bonds(\"C\", \"H\")[0]\n",
    "# # fix_bond_lengths = FixBondLengths(ch_bonds)\n",
    "# # atoms.set_constraint([fix_atoms, fix_bond_lengths])\n",
    "atoms.set_constraint(fix_atoms)\n",
    "\n",
    "\n",
    "\n",
    "calc_base = Dftb(atoms=atoms,\n",
    "            label='crystal',\n",
    "            # Hamiltonian_ = \"xTB\",\n",
    "            # Hamiltonian_Method = \"GFN1-xTB\",\n",
    "            # Hamiltonian_MaxAngularMomentum_='',\n",
    "            # Hamiltonian_MaxAngularMomentum_O='p',\n",
    "            # Hamiltonian_MaxAngularMomentum_H='s',\n",
    "            # Hamiltonian_MaxAngularMomentum_N='s',\n",
    "            # Hamiltonian_MaxAngularMomentum_C='s',\n",
    "            # Hamiltonian_MaxAngularMomentum_Si='s',\n",
    "            kpts=(1,1,1),\n",
    "            # Hamiltonian_SCC='Yes',\n",
    "            # Verbosity=0,\n",
    "            # Hamiltonian_OrbitalResolvedSCC = 'Yes',\n",
    "            # Hamiltonian_SCCTolerance=1e-15,\n",
    "            # kpts=None\n",
    "            # Driver_='ConjugateGradient',\n",
    "            # Driver_MaxForceComponent=1e-3,\n",
    "            # Driver_MaxSteps=200,\n",
    "            # Driver_LatticeOpt = 'Yes',\n",
    "            # Driver_AppendGeometries = 'Yes'\n",
    "            )\n",
    "\n",
    "atoms.calc = Plumed(calc=calc_base,\n",
    "                    input=setup,\n",
    "                    timestep=timestep,\n",
    "                    atoms=atoms,\n",
    "                    kT=0.1,\n",
    "                    log='../results/test/plumed/plumed_log.log')\n",
    "\n",
    "from ase.md.verlet import VelocityVerlet\n",
    "from ase.md.langevin import Langevin\n",
    "\n",
    "# atoms.calc = calc_base\n",
    "\n",
    "# calc=LennardJones(rc=2.5, r0=3.)\n",
    "# atoms.calc = calc\n",
    "\n",
    "\n",
    "\n",
    "dyn = Langevin(atoms, timestep, temperature_K=0.1/units.kB, friction=0.1,\n",
    "               fixcm=True, trajectory='../results/test/plumed/MTD_output.xyz')\n",
    "# We want to run MD with constant energy using the VelocityVerlet algorithm.\n",
    "# dyn = VelocityVerlet(atoms, timestep, trajectory='../results/test/plumed/UnbiasMD.xyz')  # 5 fs time step.\n",
    "# https://wiki.fysik.dtu.dk/ase/ase/md.html\n",
    "\n",
    "dyn.run(500)\n"
   ]
  },
  {
   "cell_type": "code",
   "execution_count": 21,
   "metadata": {},
   "outputs": [
    {
     "data": {
      "text/plain": [
       "<Popen: returncode: None args: ['/home/dlb/anaconda3/envs/dftb_plumed/bin/py...>"
      ]
     },
     "execution_count": 21,
     "metadata": {},
     "output_type": "execute_result"
    }
   ],
   "source": [
    "from ase.visualize import view\n",
    "view(atoms)\n",
    "\n"
   ]
  },
  {
   "cell_type": "code",
   "execution_count": 61,
   "metadata": {},
   "outputs": [
    {
     "name": "stdout",
     "output_type": "stream",
     "text": [
      "Atom('C', [-0.3987443146369117, 6.614953598920975, 10.156099017572219], momentum=[0.63610629127762, -0.5983187487919405, 0.9573086067476068], index=6)\n",
      "Atom('N', [-0.3945240324543453, 5.570663088011776, 11.064841535674525], momentum=[0.0, 0.0, 0.0], index=8)\n",
      "Cell([[6.876, 0.0, 0.0], [-2.14253011477129, 19.188757872965567, 0.0], [-2.0842458005893625, -8.862442591006797, 19.133393629041198]])\n"
     ]
    }
   ],
   "source": [
    "print(atoms[6])\n",
    "print(atoms[8])\n",
    "print(atoms.get_cell())"
   ]
  },
  {
   "cell_type": "code",
   "execution_count": 60,
   "metadata": {},
   "outputs": [
    {
     "data": {
      "text/plain": [
       "<Popen: returncode: None args: ['/home/dlb/anaconda3/envs/dftb_plumed/bin/py...>"
      ]
     },
     "execution_count": 60,
     "metadata": {},
     "output_type": "execute_result"
    },
    {
     "name": "stderr",
     "output_type": "stream",
     "text": [
      "Traceback (most recent call last):\n",
      "  File \"/home/dlb/anaconda3/envs/dftb_plumed/lib/python3.10/runpy.py\", line 196, in _run_module_as_main\n",
      "    return _run_code(code, main_globals, None,\n",
      "  File \"/home/dlb/anaconda3/envs/dftb_plumed/lib/python3.10/runpy.py\", line 86, in _run_code\n",
      "    exec(code, run_globals)\n",
      "  File \"/home/dlb/anaconda3/envs/dftb_plumed/lib/python3.10/site-packages/ase/gui/pipe.py\", line 32, in <module>\n",
      "    main()\n",
      "  File \"/home/dlb/anaconda3/envs/dftb_plumed/lib/python3.10/site-packages/ase/gui/pipe.py\", line 28, in main\n",
      "    plt.show()\n",
      "  File \"/home/dlb/anaconda3/envs/dftb_plumed/lib/python3.10/site-packages/matplotlib/pyplot.py\", line 421, in show\n",
      "    return _get_backend_mod().show(*args, **kwargs)\n",
      "  File \"/home/dlb/anaconda3/envs/dftb_plumed/lib/python3.10/site-packages/matplotlib_inline/backend_inline.py\", line 90, in show\n",
      "    display(\n",
      "  File \"/home/dlb/anaconda3/envs/dftb_plumed/lib/python3.10/site-packages/IPython/core/display_functions.py\", line 265, in display\n",
      "    print(*objs)\n",
      "ValueError: I/O operation on closed file.\n"
     ]
    }
   ],
   "source": [
    "from ase.io import read, write\n",
    "from ase.visualize import view\n",
    "\n",
    "traj = read('../results/test/plumed/MTD_output.xyz', index=\":\")\n",
    "# traj = read('/home/dlb/Downloads/UnbiasMD.xyz', index=\":\")\n",
    "# write(\"test/plumed/biased_MTD.xyz\", traj, format=\"extxyz\")\n",
    "# traj_biased = read('test/plumed/biased_MTD.xyz', index=\":\")\n",
    "# traj_unbiased = read('test/plumed/.xyz', index=\":\")\n",
    "\n",
    "view(traj)"
   ]
  },
  {
   "cell_type": "code",
   "execution_count": 33,
   "metadata": {},
   "outputs": [
    {
     "data": {
      "text/plain": [
       "array([[-0.44644934, -0.18941263,  0.21633226],\n",
       "       [ 0.40692937, -0.30407194,  0.24245202],\n",
       "       [ 0.10791414,  0.41096982,  0.25219211],\n",
       "       ...,\n",
       "       [-3.28981211,  2.13228102, -2.45460851],\n",
       "       [-0.21308291, -3.87824713, -2.44825911],\n",
       "       [ 3.3619705 ,  1.71517904, -2.36869344]])"
      ]
     },
     "execution_count": 33,
     "metadata": {},
     "output_type": "execute_result"
    }
   ],
   "source": [
    "traj[1].get_forces()"
   ]
  },
  {
   "cell_type": "code",
   "execution_count": 34,
   "metadata": {},
   "outputs": [
    {
     "name": "stdout",
     "output_type": "stream",
     "text": [
      "[[-0.44644934 -0.18941263  0.21633226]\n",
      " [ 0.40692937 -0.30407194  0.24245202]\n",
      " [ 0.10791414  0.41096982  0.25219211]\n",
      " ...\n",
      " [-3.28981211  2.13228102 -2.45460851]\n",
      " [-0.21308291 -3.87824713 -2.44825911]\n",
      " [ 3.3619705   1.71517904 -2.36869344]]\n"
     ]
    }
   ],
   "source": [
    "# del test_at\n",
    "\n",
    "test_at = traj[1].copy()\n",
    "\n",
    "\n",
    "test_at.calc = calc_base\n",
    "\n",
    "# print(test_at.get_potential_energy())\n",
    "print(test_at.get_forces())"
   ]
  },
  {
   "cell_type": "code",
   "execution_count": null,
   "metadata": {},
   "outputs": [],
   "source": [
    "# # Get unbiased forces:\n",
    "\n",
    "# traj_unbiased = read('test/plumed/biased_MTD.xyz', index=\":\")\n",
    "\n",
    "# for im in traj_unbiased:\n",
    "#         im.calc = calc_base\n",
    "#         # im.get_forces()\n",
    "#         print(im.get_forces())\n",
    "\n",
    "# write(\"test/plumed/unbiased_MTD.xyz\", traj_unbiased, format=\"extxyz\")"
   ]
  },
  {
   "cell_type": "code",
   "execution_count": null,
   "metadata": {},
   "outputs": [],
   "source": [
    "import numpy as np\n",
    "import matplotlib.pyplot as plt\n",
    "\n",
    "traj_biased = read('test/plumed/biased_MTD.xyz', index=\":\")\n",
    "traj_unbiased = read('test/plumed/unbiased_MTD.xyz', index=\":\")\n",
    "\n",
    "f_diff = np.zeros((len(traj_biased), len(traj_biased[0]), 3))\n",
    "e_diff = np.zeros((len(traj_biased)))\n",
    "\n",
    "for i in range(len(traj_biased)):\n",
    "        f_diff[i] = traj_biased[i].get_forces() - traj_unbiased[i].get_forces()\n",
    "        e_diff[i] = traj_biased[i].get_potential_energy() - traj_unbiased[i].get_potential_energy()\n",
    "\n",
    "\n",
    "        # print(f_diff)\n",
    "\n",
    "force_diffs = np.absolute(f_diff).sum(axis=(1,2))\n",
    "plt.plot(force_diffs)\n",
    "plt.show()\n",
    "\n",
    "\n",
    "energy_diffs = np.absolute(e_diff)\n",
    "plt.plot(energy_diffs)\n",
    "plt.show()\n",
    "# f_diff[0].absolutize().sum()"
   ]
  },
  {
   "cell_type": "code",
   "execution_count": null,
   "metadata": {},
   "outputs": [],
   "source": []
  },
  {
   "cell_type": "markdown",
   "metadata": {},
   "source": [
    "## Extract connected components"
   ]
  },
  {
   "cell_type": "code",
   "execution_count": null,
   "metadata": {},
   "outputs": [],
   "source": [
    "from ase.build import connected_indices, connected_atoms, separate, split_bond\n",
    "# view(connected_atoms(atoms, 0))\n",
    "# separate(atoms)\n",
    "view(split_bond(atoms, 0, 1))"
   ]
  },
  {
   "cell_type": "markdown",
   "metadata": {},
   "source": [
    "## Make supercell"
   ]
  },
  {
   "cell_type": "code",
   "execution_count": null,
   "metadata": {},
   "outputs": [],
   "source": [
    "from ase.build import make_supercell\n",
    "\n",
    "new_cryst = make_supercell(crystal,[[2,0,0], [0,2,0], [0,0,2]])\n",
    "print(new_cryst)\n",
    "view(new_cryst)"
   ]
  },
  {
   "cell_type": "code",
   "execution_count": null,
   "metadata": {},
   "outputs": [],
   "source": []
  },
  {
   "attachments": {},
   "cell_type": "markdown",
   "metadata": {},
   "source": [
    "## Lammps\n"
   ]
  },
  {
   "cell_type": "code",
   "execution_count": 67,
   "metadata": {},
   "outputs": [],
   "source": [
    "#  export ASE_LAMMPSRUN_COMMAND=/path/to/lmp_binary\n",
    "# pkill -9 -f lmp_serial\n",
    "\n",
    "import os\n",
    "\n",
    "os.environ[\"ASE_LAMMPSRUN_COMMAND\"] = \"lmp_serial\""
   ]
  },
  {
   "cell_type": "code",
   "execution_count": 84,
   "metadata": {},
   "outputs": [
    {
     "name": "stdout",
     "output_type": "stream",
     "text": [
      "[[ 2.75694705e-01  1.59542825e-01  2.00582215e-01]\n",
      " [-2.75694705e-01 -1.59542825e-01 -2.00582215e-01]\n",
      " [ 1.93653935e-01 -1.09878166e-02 -2.61897700e-01]\n",
      " [-1.93653935e-01  1.09878166e-02  2.61897700e-01]\n",
      " [-3.30727297e-01 -1.73616057e-02 -9.69807151e-02]\n",
      " [ 3.30727297e-01  1.73616057e-02  9.69807151e-02]\n",
      " [ 6.81267887e-02 -5.06569241e-02 -7.07113394e-02]\n",
      " [-6.81267887e-02  5.06569241e-02  7.07113394e-02]\n",
      " [-3.86898726e-03 -4.19596290e-01 -1.69974527e+00]\n",
      " [ 3.86898726e-03  4.19596290e-01  1.69974527e+00]\n",
      " [-4.62388514e-02  2.89769225e-02  4.33143847e-02]\n",
      " [ 4.62388514e-02 -2.89769225e-02 -4.33143847e-02]\n",
      " [-1.96201017e-01  1.66587781e+00  4.92917890e-01]\n",
      " [ 1.96201017e-01 -1.66587781e+00 -4.92917890e-01]\n",
      " [ 4.37135258e-02  2.40124134e-02  1.18696384e-03]\n",
      " [-4.37135258e-02 -2.40124134e-02 -1.18696384e-03]\n",
      " [ 2.07246097e-01 -1.25503877e+00  1.20582993e+00]\n",
      " [-2.07246097e-01  1.25503877e+00 -1.20582993e+00]\n",
      " [-3.65243939e-01 -1.67007890e+00 -2.18058444e-01]\n",
      " [ 3.65243939e-01  1.67007890e+00  2.18058444e-01]\n",
      " [-5.21338422e-01  6.02832859e-02  1.55465310e+00]\n",
      " [ 5.21338422e-01 -6.02832859e-02 -1.55465310e+00]\n",
      " [ 1.36576295e-01  1.66722683e-01 -7.90687129e-02]\n",
      " [-1.36576295e-01 -1.66722683e-01  7.90687129e-02]\n",
      " [ 7.89485526e-01 -1.92476826e+01 -8.26026691e+01]\n",
      " [-7.89485526e-01  1.92476826e+01  8.26026691e+01]\n",
      " [-7.47639051e-01  1.86009682e+01  8.05529565e+01]\n",
      " [ 7.47639051e-01 -1.86009682e+01 -8.05529565e+01]\n",
      " [-7.73548147e+00  6.17033285e+01 -5.79287058e+01]\n",
      " [ 7.73548147e+00 -6.17033285e+01  5.79287058e+01]\n",
      " [ 7.52338585e+00 -6.00879993e+01  5.65962309e+01]\n",
      " [-7.52338585e+00  6.00879993e+01 -5.65962309e+01]\n",
      " [-4.95094436e-02  9.22012348e-02  1.04022285e-01]\n",
      " [ 4.95094436e-02 -9.22012348e-02 -1.04022285e-01]\n",
      " [-8.17200847e-01  1.92429314e+01  8.27188136e+01]\n",
      " [ 8.17200847e-01 -1.92429314e+01 -8.27188136e+01]\n",
      " [ 7.89062612e-01 -1.86138566e+01 -8.07124096e+01]\n",
      " [-7.89062612e-01  1.86138566e+01  8.07124096e+01]\n",
      " [ 7.66275023e+00 -6.13641090e+01  5.75740320e+01]\n",
      " [-7.66275023e+00  6.13641090e+01 -5.75740320e+01]\n",
      " [-7.45370754e+00  5.97208168e+01 -5.61985265e+01]\n",
      " [ 7.45370754e+00 -5.97208168e+01  5.61985265e+01]\n",
      " [ 1.37792166e+01 -7.91328831e+01 -2.42781110e+01]\n",
      " [-1.37792166e+01  7.91328831e+01  2.42781110e+01]\n",
      " [-1.34390868e+01  7.71531165e+01  2.35449832e+01]\n",
      " [ 1.34390868e+01 -7.71531165e+01 -2.35449832e+01]\n",
      " [-3.43229539e-02 -2.51332053e-02 -4.43309871e-02]\n",
      " [ 3.43229539e-02  2.51332053e-02  4.43309871e-02]\n",
      " [-1.38021662e+01  6.05108035e+01 -5.83367351e+01]\n",
      " [ 1.38021662e+01 -6.05108035e+01  5.83367351e+01]\n",
      " [ 1.34675614e+01 -5.90786311e+01  5.67877047e+01]\n",
      " [-1.34675614e+01  5.90786311e+01 -5.67877047e+01]\n",
      " [-1.40277327e+01  8.05784471e+01  2.47487097e+01]\n",
      " [ 1.40277327e+01 -8.05784471e+01 -2.47487097e+01]\n",
      " [ 1.36664374e+01 -7.86192743e+01 -2.39991277e+01]\n",
      " [-1.36664374e+01  7.86192743e+01  2.39991277e+01]\n",
      " [ 6.33605585e-02  5.96697548e-02 -6.35569170e-02]\n",
      " [-6.33605585e-02 -5.96697548e-02  6.35569170e-02]\n",
      " [ 1.35904176e+01 -5.98448000e+01  5.75988940e+01]\n",
      " [-1.35904176e+01  5.98448000e+01 -5.75988940e+01]\n",
      " [-1.32382469e+01  5.84727107e+01 -5.60332314e+01]\n",
      " [ 1.32382469e+01 -5.84727107e+01  5.60332314e+01]\n",
      " [ 2.02571285e+01  1.67469221e+01  2.52561831e+01]\n",
      " [-2.02571285e+01 -1.67469221e+01 -2.52561831e+01]\n",
      " [-2.06006958e+01 -1.57724175e+01 -2.36408296e+01]\n",
      " [ 2.06006958e+01  1.57724175e+01  2.36408296e+01]\n",
      " [-6.73787116e-02  4.69783461e-02  1.48927969e-01]\n",
      " [ 6.73787116e-02 -4.69783461e-02 -1.48927969e-01]\n",
      " [-1.10094850e+01  7.97155530e+01  2.54119368e+01]\n",
      " [ 1.10094850e+01 -7.97155530e+01 -2.54119368e+01]\n",
      " [ 1.07108787e+01 -7.76465429e+01 -2.49256979e+01]\n",
      " [-1.07108787e+01  7.76465429e+01  2.49256979e+01]\n",
      " [ 2.51943757e+00  1.90919022e+01  8.40800113e+01]\n",
      " [-2.51943757e+00 -1.90919022e+01 -8.40800113e+01]\n",
      " [-2.43665379e+00 -1.87233303e+01 -8.19822274e+01]\n",
      " [ 2.43665379e+00  1.87233303e+01  8.19822274e+01]\n",
      " [ 1.30737546e-01 -7.50924393e-02 -5.09725318e-02]\n",
      " [-1.30737546e-01  7.50924393e-02  5.09725318e-02]\n",
      " [ 1.13252064e+01 -8.19092831e+01 -2.62290705e+01]\n",
      " [-1.13252064e+01  8.19092831e+01  2.62290705e+01]\n",
      " [-1.10300126e+01  7.98616817e+01  2.57054356e+01]\n",
      " [ 1.10300126e+01 -7.98616817e+01 -2.57054356e+01]\n",
      " [-2.48053474e+00 -1.88961981e+01 -8.32207856e+01]\n",
      " [ 2.48053474e+00  1.88961981e+01  8.32207856e+01]\n",
      " [ 2.45251531e+00  1.84985663e+01  8.12064659e+01]\n",
      " [-2.45251531e+00 -1.84985663e+01 -8.12064659e+01]\n",
      " [ 8.27043233e+00  2.96292966e+00 -3.44807163e+01]\n",
      " [-8.27043233e+00 -2.96292966e+00  3.44807163e+01]\n",
      " [-7.73374842e+00 -3.99454268e+00  3.32337219e+01]\n",
      " [ 7.73374842e+00  3.99454268e+00 -3.32337219e+01]\n",
      " [ 2.21891124e+01 -2.42369597e+01 -1.63409240e+01]\n",
      " [-2.21891124e+01  2.42369597e+01  1.63409240e+01]\n",
      " [-2.24242254e+01  2.25527009e+01  1.51656607e+01]\n",
      " [ 2.24242254e+01 -2.25527009e+01 -1.51656607e+01]\n",
      " [ 7.16177974e+00  3.47269173e+01 -6.31204542e+00]\n",
      " [-7.16177974e+00 -3.47269173e+01  6.31204542e+00]\n",
      " [-6.35448397e+00 -3.33757792e+01  7.33162216e+00]\n",
      " [ 6.35448397e+00  3.33757792e+01 -7.33162216e+00]\n",
      " [ 1.63818806e+01  1.30425777e+01 -4.65344471e+01]\n",
      " [-1.63818806e+01 -1.30425777e+01  4.65344471e+01]\n",
      " [-1.24688800e+00 -4.76124130e+01  3.77728016e+00]\n",
      " [ 1.24688800e+00  4.76124130e+01 -3.77728016e+00]\n",
      " [-4.40229932e+01  1.73120893e+01  6.86255942e+00]\n",
      " [ 4.40229932e+01 -1.73120893e+01 -6.86255942e+00]\n",
      " [ 2.94532778e+01  1.78331031e+01  3.40825536e+01]\n",
      " [-2.94532778e+01 -1.78331031e+01 -3.40825536e+01]\n",
      " [ 3.08227748e+01  1.43935973e+01  3.79928784e+01]\n",
      " [-3.08227748e+01 -1.43935973e+01 -3.79928784e+01]\n",
      " [-4.47070145e+00 -4.84822742e+01 -9.91640508e-01]\n",
      " [ 4.47070145e+00  4.84822742e+01  9.91640508e-01]\n",
      " [ 1.76538254e+01  1.51884441e+01 -4.22043708e+01]\n",
      " [-1.76538254e+01 -1.51884441e+01  4.22043708e+01]\n",
      " [-4.25296818e+01  1.92926484e+01  6.70146773e+00]\n",
      " [ 4.25296818e+01 -1.92926484e+01 -6.70146773e+00]\n",
      " [ 4.93693855e+00 -5.03167065e+01  6.04126574e+00]\n",
      " [-4.93693855e+00  5.03167065e+01 -6.04126574e+00]\n",
      " [-4.18904351e+01  9.45210219e+00 -2.16970058e+01]\n",
      " [ 4.18904351e+01 -9.45210219e+00  2.16970058e+01]\n",
      " [ 3.64083230e+01  1.76121043e+01 -2.72626870e+01]\n",
      " [-3.64083230e+01 -1.76121043e+01  2.72626870e+01]\n",
      " [ 6.48901536e-01  2.15677174e+01  4.31128559e+01]\n",
      " [-6.48901536e-01 -2.15677174e+01 -4.31128559e+01]\n",
      " [-1.76076087e+00 -2.69446442e+01  2.46969584e+01]\n",
      " [ 1.76076087e+00  2.69446442e+01 -2.46969584e+01]\n",
      " [ 2.26631567e+00  2.66704129e+01 -2.28957597e+01]\n",
      " [-2.26631567e+00 -2.66704129e+01  2.28957597e+01]\n",
      " [-1.67949549e+01  3.06412720e+01  2.55088509e+00]\n",
      " [ 1.67949549e+01 -3.06412720e+01 -2.55088509e+00]\n",
      " [ 1.87484658e+01 -2.79808035e+01 -4.18867624e+00]\n",
      " [-1.87484658e+01  2.79808035e+01  4.18867624e+00]\n",
      " [ 5.78164098e+00 -3.21209145e-01  5.08827604e+01]\n",
      " [-5.78164098e+00  3.21209145e-01 -5.08827604e+01]\n",
      " [ 3.18305899e+01  3.13503804e+01 -2.28311647e+01]\n",
      " [-3.18305899e+01 -3.13503804e+01  2.28311647e+01]\n",
      " [-4.27279021e+01  1.40111210e+01 -7.67807739e+00]\n",
      " [ 4.27279021e+01 -1.40111210e+01  7.67807739e+00]\n",
      " [ 5.46600418e+00 -4.49729537e+01 -1.83147300e+01]\n",
      " [-5.46600418e+00  4.49729537e+01  1.83147300e+01]\n",
      " [ 3.50687084e+01  2.59706251e+01  2.55988792e+01]\n",
      " [-3.50687084e+01 -2.59706251e+01 -2.55988792e+01]\n",
      " [-4.37409734e+01  1.61040543e+01  1.10360922e+01]\n",
      " [ 4.37409734e+01 -1.61040543e+01 -1.10360922e+01]\n",
      " [ 2.73771905e+00 -4.63381124e+01  1.11168411e+01]\n",
      " [-2.73771905e+00  4.63381124e+01 -1.11168411e+01]\n",
      " [ 6.99998057e+00  5.15227631e+00 -4.69044402e+01]\n",
      " [-6.99998057e+00 -5.15227631e+00  4.69044402e+01]\n",
      " [ 7.74561277e+00  4.72991904e+01 -1.79082577e+01]\n",
      " [-7.74561277e+00 -4.72991904e+01  1.79082577e+01]\n",
      " [ 3.63317780e+01 -3.19531211e+01 -1.31162327e+01]\n",
      " [-3.63317780e+01  3.19531211e+01  1.31162327e+01]\n",
      " [-4.04743874e+01 -1.50156637e+01 -1.74469373e+01]\n",
      " [ 4.04743874e+01  1.50156637e+01  1.74469373e+01]\n",
      " [-3.28908488e+00  1.47218574e+00  4.76991888e+01]\n",
      " [ 3.28908488e+00 -1.47218574e+00 -4.76991888e+01]\n",
      " [-4.72524586e+01  1.69103079e+01  6.24033179e+00]\n",
      " [ 4.72524586e+01 -1.69103079e+01 -6.24033179e+00]\n",
      " [ 1.05283169e+01 -4.17273517e+00 -4.65904638e+01]\n",
      " [-1.05283169e+01  4.17273517e+00  4.65904638e+01]\n",
      " [ 4.46631062e+00 -4.22856125e+01  2.05734113e+01]\n",
      " [-4.46631062e+00  4.22856125e+01 -2.05734113e+01]\n",
      " [ 3.06571209e+01  3.01100992e+01  2.00704127e+01]\n",
      " [-3.06571209e+01 -3.01100992e+01 -2.00704127e+01]\n",
      " [ 1.23420350e+01 -2.56636651e+01 -2.50109761e+01]\n",
      " [-1.23420350e+01  2.56636651e+01  2.50109761e+01]\n",
      " [-1.35742442e+01  2.21852457e+01  2.59592151e+01]\n",
      " [ 1.35742442e+01 -2.21852457e+01 -2.59592151e+01]\n",
      " [-4.60559312e+01 -1.76997422e+01  1.27870353e+01]\n",
      " [ 4.60559312e+01  1.76997422e+01 -1.27870353e+01]\n",
      " [ 2.84046540e+01 -3.59075502e+01 -4.49233800e+00]\n",
      " [-2.84046540e+01  3.59075502e+01  4.49233800e+00]\n",
      " [ 1.70308321e+01  2.89674726e+01  3.38842451e+01]\n",
      " [-1.70308321e+01 -2.89674726e+01 -3.38842451e+01]\n",
      " [-1.70656783e+00  2.38712826e+01 -4.17517763e+01]\n",
      " [ 1.70656783e+00 -2.38712826e+01  4.17517763e+01]\n",
      " [-4.92300364e+01 -6.69175171e+00 -1.32401365e+01]\n",
      " [ 4.92300364e+01  6.69175171e+00  1.32401365e+01]\n",
      " [ 3.04928676e+01 -2.39928950e+01 -3.12649895e+01]\n",
      " [-3.04928676e+01  2.39928950e+01  3.12649895e+01]\n",
      " [ 6.89846639e+00 -1.66771945e+01  4.51259452e+01]\n",
      " [-6.89846639e+00  1.66771945e+01 -4.51259452e+01]\n",
      " [ 9.98185243e+00  4.69702342e+01 -1.10586460e+00]\n",
      " [-9.98185243e+00 -4.69702342e+01  1.10586460e+00]\n",
      " [ 1.23367565e+01  6.48395297e+00  3.17771120e+01]\n",
      " [-1.23367565e+01 -6.48395297e+00 -3.17771120e+01]\n",
      " [-1.15689208e+01 -4.48063114e+00 -3.12410659e+01]\n",
      " [ 1.15689208e+01  4.48063114e+00  3.12410659e+01]\n",
      " [ 3.21285786e+01 -3.86753943e+01 -1.20094211e+01]\n",
      " [-3.21285786e+01  3.86753943e+01  1.20094211e+01]\n",
      " [ 9.99512883e+00  1.48664880e+01  4.43509854e+01]\n",
      " [-9.99512883e+00 -1.48664880e+01 -4.43509854e+01]\n",
      " [-4.79888322e+01 -1.43235949e+01 -2.22403970e+00]\n",
      " [ 4.79888322e+01  1.43235949e+01  2.22403970e+00]\n",
      " [ 7.26844483e+00  3.62545412e+01 -3.08612690e+01]\n",
      " [-7.26844483e+00 -3.62545412e+01  3.08612690e+01]\n",
      " [ 3.38348444e+01 -2.48918141e+01 -2.90419145e+01]\n",
      " [-3.38348444e+01  2.48918141e+01  2.90419145e+01]\n",
      " [-8.71489009e-02  4.58570956e+01 -1.30166924e+01]\n",
      " [ 8.71489009e-02 -4.58570956e+01  1.30166924e+01]\n",
      " [ 1.36611681e+01 -3.20001836e+00  4.59641077e+01]\n",
      " [-1.36611681e+01  3.20001836e+00 -4.59641077e+01]\n",
      " [-4.64075292e+01 -1.86313616e+01 -4.81640216e+00]\n",
      " [ 4.64075292e+01  1.86313616e+01  4.81640216e+00]\n",
      " [-4.20429898e+01 -2.97849487e+01  9.00741340e+00]\n",
      " [ 4.20429898e+01  2.97849487e+01 -9.00741340e+00]\n",
      " [-8.33401064e-01  3.80282623e+01  2.77528105e+01]\n",
      " [ 8.33401064e-01 -3.80282623e+01 -2.77528105e+01]\n",
      " [ 1.01197194e+00  1.38493018e+01 -4.55468432e+01]\n",
      " [-1.01197194e+00 -1.38493018e+01  4.55468432e+01]\n",
      " [ 3.82984637e+01 -2.52539925e+01  9.31129209e+00]\n",
      " [-3.82984637e+01  2.52539925e+01 -9.31129209e+00]\n",
      " [ 3.60350799e+01 -1.09554801e+01 -3.42221363e+01]\n",
      " [-3.60350799e+01  1.09554801e+01  3.42221363e+01]\n",
      " [-1.89230716e+01 -4.08387427e+01  1.97942713e+01]\n",
      " [ 1.89230716e+01  4.08387427e+01 -1.97942713e+01]\n",
      " [-3.42394794e+01  2.38448610e+01 -2.17986121e+01]\n",
      " [ 3.42394794e+01 -2.38448610e+01  2.17986121e+01]\n",
      " [ 1.83604258e+01  2.74578996e+01  3.48828765e+01]\n",
      " [-1.83604258e+01 -2.74578996e+01 -3.48828765e+01]\n",
      " [-4.64481833e+01  8.53944670e+00 -1.85479362e+01]\n",
      " [ 4.64481833e+01 -8.53944670e+00  1.85479362e+01]\n",
      " [-1.77480569e+00 -3.01325310e+01  3.71279404e+01]\n",
      " [ 1.77480569e+00  3.01325310e+01 -3.71279404e+01]\n",
      " [ 1.91246554e+01  4.07139011e+01  1.42140782e+01]\n",
      " [-1.91246554e+01 -4.07139011e+01 -1.42140782e+01]\n",
      " [ 2.72416406e+01 -1.88182467e+01 -3.37514238e+01]\n",
      " [-2.72416406e+01  1.88182467e+01  3.37514238e+01]\n",
      " [ 4.56864288e+01  2.67626288e+01  1.56526813e+00]\n",
      " [-4.56864288e+01 -2.67626288e+01 -1.56526813e+00]\n",
      " [-2.58157983e+01  1.50890563e+01 -3.76014289e+01]\n",
      " [ 2.58157983e+01 -1.50890563e+01  3.76014289e+01]\n",
      " [-2.49980500e+01  8.13205643e+00  4.12696464e+01]\n",
      " [ 2.49980500e+01 -8.13205643e+00 -4.12696464e+01]\n",
      " [ 9.02464834e+00 -4.73550072e+01 -4.55553928e+00]\n",
      " [-9.02464834e+00  4.73550072e+01  4.55553928e+00]\n",
      " [-3.65365895e+01  1.29752100e+01 -3.44106104e+01]\n",
      " [ 3.65365895e+01 -1.29752100e+01  3.44106104e+01]\n",
      " [ 5.08976917e+00  3.14183558e+01  4.06105061e+01]\n",
      " [-5.08976917e+00 -3.14183558e+01 -4.06105061e+01]\n",
      " [ 4.18073257e+01 -4.93956857e+00 -2.15542663e+01]\n",
      " [-4.18073257e+01  4.93956857e+00  2.15542663e+01]\n",
      " [-1.28587372e+01 -3.81265644e+01  1.34818659e+01]\n",
      " [ 1.28587372e+01  3.81265644e+01 -1.34818659e+01]\n",
      " [-2.76377066e+01 -1.30333158e+00 -2.53570150e+01]\n",
      " [ 2.76377066e+01  1.30333158e+00  2.53570150e+01]\n",
      " [ 2.75449775e+01 -6.12804858e-01  2.33804087e+01]\n",
      " [-2.75449775e+01  6.12804858e-01 -2.33804087e+01]\n",
      " [-1.43239438e+01 -4.41809567e+01  2.42901248e+01]\n",
      " [ 1.43239438e+01  4.41809567e+01 -2.42901248e+01]\n",
      " [-3.50619988e+01  1.05207833e+01 -3.17775477e+01]\n",
      " [ 3.50619988e+01 -1.05207833e+01  3.17775477e+01]\n",
      " [ 4.02826930e+01 -1.05201822e+01 -2.39893932e+01]\n",
      " [-4.02826930e+01  1.05201822e+01  2.39893932e+01]\n",
      " [ 8.71457089e+00  4.27236726e+01  3.26477713e+01]\n",
      " [-8.71457089e+00 -4.27236726e+01 -3.26477713e+01]\n",
      " [ 4.27914537e+00  5.35894907e+01  4.28247749e+00]\n",
      " [-4.27914537e+00 -5.35894907e+01 -4.28247749e+00]\n",
      " [-4.84080178e+01 -2.21363809e+01  1.13762594e+01]\n",
      " [ 4.84080178e+01  2.21363809e+01 -1.13762594e+01]\n",
      " [ 3.71660244e+01 -2.43040246e+01  2.57280263e+01]\n",
      " [-3.71660244e+01  2.43040246e+01 -2.57280263e+01]\n",
      " [ 7.21010786e+00 -3.56097668e+00 -4.02520166e+01]\n",
      " [-7.21010786e+00  3.56097668e+00  4.02520166e+01]\n",
      " [ 2.44586099e-01  1.27703214e+00 -1.09743351e+00]\n",
      " [-2.44586099e-01 -1.27703214e+00  1.09743351e+00]]\n",
      "CPU times: user 439 ms, sys: 245 ms, total: 684 ms\n",
      "Wall time: 271 ms\n"
     ]
    },
    {
     "name": "stderr",
     "output_type": "stream",
     "text": [
      "/home/dlb/anaconda3/envs/dftb_plumed/lib/python3.10/site-packages/ase/io/cif.py:401: UserWarning: crystal system 'triclinic' is not interpreted for space group Spacegroup(2, setting=1). This may result in wrong setting!\n",
      "  warnings.warn(\n"
     ]
    }
   ],
   "source": [
    "%%time\n",
    "\n",
    "from ase import Atoms, Atom\n",
    "# from ase.calculators.lammpsrun import LAMMPS\n",
    "\n",
    "# https://gitlab.com/ase/ase/-/issues/1096\n",
    "from runner.lammpsrun import LAMMPS\n",
    "\n",
    "from ase.io import read\n",
    "\n",
    "\n",
    "atoms = read('../data/structures/new_systems/ktu_002.cif')\n",
    "\n",
    "# a = [6.5, 6.5, 7.7]\n",
    "# d = 2.3608\n",
    "# NaCl = Atoms([Atom('Na', [0, 0, 0]),\n",
    "#               Atom('Cl', [0, 0, d])],\n",
    "#              cell=a, pbc=True)\n",
    "\n",
    "calc = LAMMPS()\n",
    "atoms.calc = calc\n",
    "# NaCl.calc = calc\n",
    "\n",
    "print(atoms.get_forces())"
   ]
  },
  {
   "cell_type": "code",
   "execution_count": null,
   "metadata": {},
   "outputs": [],
   "source": []
  },
  {
   "cell_type": "code",
   "execution_count": 107,
   "metadata": {},
   "outputs": [
    {
     "name": "stderr",
     "output_type": "stream",
     "text": [
      "/home/dlb/anaconda3/envs/dftb_plumed/lib/python3.10/site-packages/ase/io/cif.py:401: UserWarning: crystal system 'triclinic' is not interpreted for space group Spacegroup(2, setting=1). This may result in wrong setting!\n",
      "  warnings.warn(\n"
     ]
    },
    {
     "ename": "KeyboardInterrupt",
     "evalue": "",
     "output_type": "error",
     "traceback": [
      "\u001b[0;31m---------------------------------------------------------------------------\u001b[0m",
      "\u001b[0;31mKeyboardInterrupt\u001b[0m                         Traceback (most recent call last)",
      "Cell \u001b[0;32mIn[107], line 25\u001b[0m\n\u001b[1;32m     19\u001b[0m dyn \u001b[39m=\u001b[39m Langevin(atoms, timestep, temperature_K\u001b[39m=\u001b[39m\u001b[39m0.1\u001b[39m\u001b[39m/\u001b[39munits\u001b[39m.\u001b[39mkB, friction\u001b[39m=\u001b[39m\u001b[39m0.1\u001b[39m,\n\u001b[1;32m     20\u001b[0m                fixcm\u001b[39m=\u001b[39m\u001b[39mTrue\u001b[39;00m, trajectory\u001b[39m=\u001b[39m\u001b[39m'\u001b[39m\u001b[39m../results/test/plumed/lammps_output.xyz\u001b[39m\u001b[39m'\u001b[39m)\n\u001b[1;32m     21\u001b[0m \u001b[39m# We want to run MD with constant energy using the VelocityVerlet algorithm.\u001b[39;00m\n\u001b[1;32m     22\u001b[0m \u001b[39m# dyn = VelocityVerlet(atoms, timestep, trajectory='../results/test/plumed/UnbiasMD.xyz')  # 5 fs time step.\u001b[39;00m\n\u001b[1;32m     23\u001b[0m \u001b[39m# https://wiki.fysik.dtu.dk/ase/ase/md.html\u001b[39;00m\n\u001b[0;32m---> 25\u001b[0m dyn\u001b[39m.\u001b[39;49mrun(\u001b[39m100\u001b[39;49m)\n",
      "File \u001b[0;32m~/anaconda3/envs/dftb_plumed/lib/python3.10/site-packages/ase/md/md.py:137\u001b[0m, in \u001b[0;36mMolecularDynamics.run\u001b[0;34m(self, steps)\u001b[0m\n\u001b[1;32m    135\u001b[0m \u001b[39m\u001b[39m\u001b[39m\"\"\" Call Dynamics.run and adjust max_steps \"\"\"\u001b[39;00m\n\u001b[1;32m    136\u001b[0m \u001b[39mself\u001b[39m\u001b[39m.\u001b[39mmax_steps \u001b[39m=\u001b[39m steps \u001b[39m+\u001b[39m \u001b[39mself\u001b[39m\u001b[39m.\u001b[39mnsteps\n\u001b[0;32m--> 137\u001b[0m \u001b[39mreturn\u001b[39;00m Dynamics\u001b[39m.\u001b[39;49mrun(\u001b[39mself\u001b[39;49m)\n",
      "File \u001b[0;32m~/anaconda3/envs/dftb_plumed/lib/python3.10/site-packages/ase/optimize/optimize.py:156\u001b[0m, in \u001b[0;36mDynamics.run\u001b[0;34m(self)\u001b[0m\n\u001b[1;32m    149\u001b[0m \u001b[39mdef\u001b[39;00m \u001b[39mrun\u001b[39m(\u001b[39mself\u001b[39m):\n\u001b[1;32m    150\u001b[0m \u001b[39m    \u001b[39m\u001b[39m\"\"\"Run dynamics algorithm.\u001b[39;00m\n\u001b[1;32m    151\u001b[0m \n\u001b[1;32m    152\u001b[0m \u001b[39m    This method will return when the forces on all individual\u001b[39;00m\n\u001b[1;32m    153\u001b[0m \u001b[39m    atoms are less than *fmax* or when the number of steps exceeds\u001b[39;00m\n\u001b[1;32m    154\u001b[0m \u001b[39m    *steps*.\"\"\"\u001b[39;00m\n\u001b[0;32m--> 156\u001b[0m     \u001b[39mfor\u001b[39;00m converged \u001b[39min\u001b[39;00m Dynamics\u001b[39m.\u001b[39mirun(\u001b[39mself\u001b[39m):\n\u001b[1;32m    157\u001b[0m         \u001b[39mpass\u001b[39;00m\n\u001b[1;32m    158\u001b[0m     \u001b[39mreturn\u001b[39;00m converged\n",
      "File \u001b[0;32m~/anaconda3/envs/dftb_plumed/lib/python3.10/site-packages/ase/optimize/optimize.py:135\u001b[0m, in \u001b[0;36mDynamics.irun\u001b[0;34m(self)\u001b[0m\n\u001b[1;32m    131\u001b[0m \u001b[39m# run the algorithm until converged or max_steps reached\u001b[39;00m\n\u001b[1;32m    132\u001b[0m \u001b[39mwhile\u001b[39;00m \u001b[39mnot\u001b[39;00m \u001b[39mself\u001b[39m\u001b[39m.\u001b[39mconverged() \u001b[39mand\u001b[39;00m \u001b[39mself\u001b[39m\u001b[39m.\u001b[39mnsteps \u001b[39m<\u001b[39m \u001b[39mself\u001b[39m\u001b[39m.\u001b[39mmax_steps:\n\u001b[1;32m    133\u001b[0m \n\u001b[1;32m    134\u001b[0m     \u001b[39m# compute the next step\u001b[39;00m\n\u001b[0;32m--> 135\u001b[0m     \u001b[39mself\u001b[39;49m\u001b[39m.\u001b[39;49mstep()\n\u001b[1;32m    136\u001b[0m     \u001b[39mself\u001b[39m\u001b[39m.\u001b[39mnsteps \u001b[39m+\u001b[39m\u001b[39m=\u001b[39m \u001b[39m1\u001b[39m\n\u001b[1;32m    138\u001b[0m     \u001b[39m# let the user inspect the step and change things before logging\u001b[39;00m\n\u001b[1;32m    139\u001b[0m     \u001b[39m# and predicting the next step\u001b[39;00m\n",
      "File \u001b[0;32m~/anaconda3/envs/dftb_plumed/lib/python3.10/site-packages/ase/md/langevin.py:164\u001b[0m, in \u001b[0;36mLangevin.step\u001b[0;34m(self, forces)\u001b[0m\n\u001b[1;32m    162\u001b[0m     old_com \u001b[39m=\u001b[39m atoms\u001b[39m.\u001b[39mget_center_of_mass()\n\u001b[1;32m    163\u001b[0m \u001b[39m# Step: x^n -> x^(n+1) - this applies constraints if any.\u001b[39;00m\n\u001b[0;32m--> 164\u001b[0m atoms\u001b[39m.\u001b[39;49mset_positions(x \u001b[39m+\u001b[39;49m \u001b[39mself\u001b[39;49m\u001b[39m.\u001b[39;49mdt \u001b[39m*\u001b[39;49m \u001b[39mself\u001b[39;49m\u001b[39m.\u001b[39;49mv \u001b[39m+\u001b[39;49m \u001b[39mself\u001b[39;49m\u001b[39m.\u001b[39;49mc5 \u001b[39m*\u001b[39;49m \u001b[39mself\u001b[39;49m\u001b[39m.\u001b[39;49meta)\n\u001b[1;32m    165\u001b[0m \u001b[39mif\u001b[39;00m \u001b[39mself\u001b[39m\u001b[39m.\u001b[39mfix_com:\n\u001b[1;32m    166\u001b[0m     atoms\u001b[39m.\u001b[39mset_center_of_mass(old_com)\n",
      "File \u001b[0;32m~/anaconda3/envs/dftb_plumed/lib/python3.10/site-packages/ase/atoms.py:691\u001b[0m, in \u001b[0;36mAtoms.set_positions\u001b[0;34m(self, newpositions, apply_constraint)\u001b[0m\n\u001b[1;32m    689\u001b[0m     newpositions \u001b[39m=\u001b[39m np\u001b[39m.\u001b[39marray(newpositions, \u001b[39mfloat\u001b[39m)\n\u001b[1;32m    690\u001b[0m     \u001b[39mfor\u001b[39;00m constraint \u001b[39min\u001b[39;00m \u001b[39mself\u001b[39m\u001b[39m.\u001b[39mconstraints:\n\u001b[0;32m--> 691\u001b[0m         constraint\u001b[39m.\u001b[39;49madjust_positions(\u001b[39mself\u001b[39;49m, newpositions)\n\u001b[1;32m    693\u001b[0m \u001b[39mself\u001b[39m\u001b[39m.\u001b[39mset_array(\u001b[39m'\u001b[39m\u001b[39mpositions\u001b[39m\u001b[39m'\u001b[39m, newpositions, shape\u001b[39m=\u001b[39m(\u001b[39m3\u001b[39m,))\n",
      "File \u001b[0;32m~/anaconda3/envs/dftb_plumed/lib/python3.10/site-packages/ase/constraints.py:281\u001b[0m, in \u001b[0;36mFixBondLengths.adjust_positions\u001b[0;34m(self, atoms, new)\u001b[0m\n\u001b[1;32m    279\u001b[0m cd \u001b[39m=\u001b[39m \u001b[39mself\u001b[39m\u001b[39m.\u001b[39mbondlengths[j]\n\u001b[1;32m    280\u001b[0m r0 \u001b[39m=\u001b[39m old[a] \u001b[39m-\u001b[39m old[b]\n\u001b[0;32m--> 281\u001b[0m d0, _ \u001b[39m=\u001b[39m find_mic(r0, atoms\u001b[39m.\u001b[39;49mcell, atoms\u001b[39m.\u001b[39;49mpbc)\n\u001b[1;32m    282\u001b[0m d1 \u001b[39m=\u001b[39m new[a] \u001b[39m-\u001b[39m new[b] \u001b[39m-\u001b[39m r0 \u001b[39m+\u001b[39m d0\n\u001b[1;32m    283\u001b[0m m \u001b[39m=\u001b[39m \u001b[39m1\u001b[39m \u001b[39m/\u001b[39m (\u001b[39m1\u001b[39m \u001b[39m/\u001b[39m masses[a] \u001b[39m+\u001b[39m \u001b[39m1\u001b[39m \u001b[39m/\u001b[39m masses[b])\n",
      "File \u001b[0;32m~/anaconda3/envs/dftb_plumed/lib/python3.10/site-packages/ase/geometry/geometry.py:212\u001b[0m, in \u001b[0;36mfind_mic\u001b[0;34m(v, cell, pbc)\u001b[0m\n\u001b[1;32m    210\u001b[0m naive_find_mic_is_safe \u001b[39m=\u001b[39m \u001b[39mFalse\u001b[39;00m\n\u001b[1;32m    211\u001b[0m \u001b[39mif\u001b[39;00m dim \u001b[39m==\u001b[39m \u001b[39m3\u001b[39m:\n\u001b[0;32m--> 212\u001b[0m     vmin, vlen \u001b[39m=\u001b[39m naive_find_mic(v, cell)\n\u001b[1;32m    213\u001b[0m     \u001b[39m# naive find mic is safe only for the following condition\u001b[39;00m\n\u001b[1;32m    214\u001b[0m     \u001b[39mif\u001b[39;00m (vlen \u001b[39m<\u001b[39m \u001b[39m0.5\u001b[39m \u001b[39m*\u001b[39m \u001b[39mmin\u001b[39m(cell\u001b[39m.\u001b[39mlengths()))\u001b[39m.\u001b[39mall():\n",
      "File \u001b[0;32m~/anaconda3/envs/dftb_plumed/lib/python3.10/site-packages/ase/geometry/geometry.py:161\u001b[0m, in \u001b[0;36mnaive_find_mic\u001b[0;34m(v, cell)\u001b[0m\n\u001b[1;32m    159\u001b[0m f \u001b[39m-\u001b[39m\u001b[39m=\u001b[39m np\u001b[39m.\u001b[39mfloor(f \u001b[39m+\u001b[39m \u001b[39m0.5\u001b[39m)\n\u001b[1;32m    160\u001b[0m vmin \u001b[39m=\u001b[39m f \u001b[39m@\u001b[39m cell\n\u001b[0;32m--> 161\u001b[0m vlen \u001b[39m=\u001b[39m np\u001b[39m.\u001b[39;49mlinalg\u001b[39m.\u001b[39;49mnorm(vmin, axis\u001b[39m=\u001b[39;49m\u001b[39m1\u001b[39;49m)\n\u001b[1;32m    162\u001b[0m \u001b[39mreturn\u001b[39;00m vmin, vlen\n",
      "File \u001b[0;32m<__array_function__ internals>:180\u001b[0m, in \u001b[0;36mnorm\u001b[0;34m(*args, **kwargs)\u001b[0m\n",
      "File \u001b[0;32m~/anaconda3/envs/dftb_plumed/lib/python3.10/site-packages/numpy/linalg/linalg.py:2547\u001b[0m, in \u001b[0;36mnorm\u001b[0;34m(x, ord, axis, keepdims)\u001b[0m\n\u001b[1;32m   2544\u001b[0m \u001b[39melif\u001b[39;00m \u001b[39mord\u001b[39m \u001b[39mis\u001b[39;00m \u001b[39mNone\u001b[39;00m \u001b[39mor\u001b[39;00m \u001b[39mord\u001b[39m \u001b[39m==\u001b[39m \u001b[39m2\u001b[39m:\n\u001b[1;32m   2545\u001b[0m     \u001b[39m# special case for speedup\u001b[39;00m\n\u001b[1;32m   2546\u001b[0m     s \u001b[39m=\u001b[39m (x\u001b[39m.\u001b[39mconj() \u001b[39m*\u001b[39m x)\u001b[39m.\u001b[39mreal\n\u001b[0;32m-> 2547\u001b[0m     \u001b[39mreturn\u001b[39;00m sqrt(add\u001b[39m.\u001b[39;49mreduce(s, axis\u001b[39m=\u001b[39;49maxis, keepdims\u001b[39m=\u001b[39;49mkeepdims))\n\u001b[1;32m   2548\u001b[0m \u001b[39m# None of the str-type keywords for ord ('fro', 'nuc')\u001b[39;00m\n\u001b[1;32m   2549\u001b[0m \u001b[39m# are valid for vectors\u001b[39;00m\n\u001b[1;32m   2550\u001b[0m \u001b[39melif\u001b[39;00m \u001b[39misinstance\u001b[39m(\u001b[39mord\u001b[39m, \u001b[39mstr\u001b[39m):\n",
      "\u001b[0;31mKeyboardInterrupt\u001b[0m: "
     ]
    }
   ],
   "source": [
    "from ase.md.verlet import VelocityVerlet\n",
    "from ase.md.langevin import Langevin\n",
    "\n",
    "# atoms.calc = calc_base\n",
    "\n",
    "# calc=LennardJones(rc=2.5, r0=3.)\n",
    "# atoms.calc = calc\n",
    "atoms = read('../data/structures/new_systems/ktu_002.cif')\n",
    "calc = LAMMPS()\n",
    "atoms.calc = calc\n",
    "\n",
    "ch_bonds = Analysis(atoms).get_bonds(\"C\", \"H\")[0]\n",
    "fix_bond_lengths = FixBondLengths(ch_bonds)\n",
    "atoms.set_constraint(fix_bond_lengths)\n",
    "\n",
    "\n",
    "timestep = 0.05\n",
    "\n",
    "dyn = Langevin(atoms, timestep, temperature_K=0.1/units.kB, friction=0.1,\n",
    "               fixcm=True, trajectory='../results/test/plumed/lammps_output.xyz')\n",
    "# We want to run MD with constant energy using the VelocityVerlet algorithm.\n",
    "# dyn = VelocityVerlet(atoms, timestep, trajectory='../results/test/plumed/UnbiasMD.xyz')  # 5 fs time step.\n",
    "# https://wiki.fysik.dtu.dk/ase/ase/md.html\n",
    "\n",
    "dyn.run(100)"
   ]
  },
  {
   "cell_type": "code",
   "execution_count": 105,
   "metadata": {},
   "outputs": [
    {
     "data": {
      "text/plain": [
       "<Popen: returncode: None args: ['/home/dlb/anaconda3/envs/dftb_plumed/bin/py...>"
      ]
     },
     "execution_count": 105,
     "metadata": {},
     "output_type": "execute_result"
    },
    {
     "name": "stderr",
     "output_type": "stream",
     "text": [
      "Traceback (most recent call last):\n",
      "  File \"/home/dlb/anaconda3/envs/dftb_plumed/lib/python3.10/runpy.py\", line 196, in _run_module_as_main\n",
      "    return _run_code(code, main_globals, None,\n",
      "  File \"/home/dlb/anaconda3/envs/dftb_plumed/lib/python3.10/runpy.py\", line 86, in _run_code\n",
      "    exec(code, run_globals)\n",
      "  File \"/home/dlb/anaconda3/envs/dftb_plumed/lib/python3.10/site-packages/ase/gui/pipe.py\", line 32, in <module>\n",
      "    main()\n",
      "  File \"/home/dlb/anaconda3/envs/dftb_plumed/lib/python3.10/site-packages/ase/gui/pipe.py\", line 28, in main\n",
      "    plt.show()\n",
      "  File \"/home/dlb/anaconda3/envs/dftb_plumed/lib/python3.10/site-packages/matplotlib/pyplot.py\", line 421, in show\n",
      "    return _get_backend_mod().show(*args, **kwargs)\n",
      "  File \"/home/dlb/anaconda3/envs/dftb_plumed/lib/python3.10/site-packages/matplotlib_inline/backend_inline.py\", line 90, in show\n",
      "    display(\n",
      "  File \"/home/dlb/anaconda3/envs/dftb_plumed/lib/python3.10/site-packages/IPython/core/display_functions.py\", line 265, in display\n",
      "    print(*objs)\n",
      "ValueError: I/O operation on closed file.\n"
     ]
    }
   ],
   "source": [
    "from ase.io import read, write\n",
    "from ase.visualize import view\n",
    "\n",
    "traj = read('../results/test/plumed/lammps_output.xyz', index=\":\")\n",
    "# traj = read('/home/dlb/Downloads/UnbiasMD.xyz', index=\":\")\n",
    "# write(\"test/plumed/biased_MTD.xyz\", traj, format=\"extxyz\")\n",
    "# traj_biased = read('test/plumed/biased_MTD.xyz', index=\":\")\n",
    "# traj_unbiased = read('test/plumed/.xyz', index=\":\")\n",
    "\n",
    "view(traj)"
   ]
  }
 ],
 "metadata": {
  "kernelspec": {
   "display_name": "Python 3.10.8",
   "language": "python",
   "name": "python3"
  },
  "language_info": {
   "codemirror_mode": {
    "name": "ipython",
    "version": 3
   },
   "file_extension": ".py",
   "mimetype": "text/x-python",
   "name": "python",
   "nbconvert_exporter": "python",
   "pygments_lexer": "ipython3",
   "version": "3.10.8"
  },
  "orig_nbformat": 4,
  "vscode": {
   "interpreter": {
    "hash": "c00138ceddc4acb3aca3a3f75cd20227309fc08023e63bfda210cdfb2c889af2"
   }
  }
 },
 "nbformat": 4,
 "nbformat_minor": 2
}
